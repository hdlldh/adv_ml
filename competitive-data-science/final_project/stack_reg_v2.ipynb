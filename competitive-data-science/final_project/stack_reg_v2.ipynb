{
 "cells": [
  {
   "cell_type": "code",
   "execution_count": 1,
   "metadata": {},
   "outputs": [],
   "source": [
    "import pandas as pd\n",
    "import numpy as np\n",
    "import os\n",
    "import matplotlib.pyplot as plt\n",
    "%matplotlib inline"
   ]
  },
  {
   "cell_type": "markdown",
   "metadata": {},
   "source": [
    "# Load data"
   ]
  },
  {
   "cell_type": "code",
   "execution_count": 2,
   "metadata": {},
   "outputs": [
    {
     "data": {
      "text/html": [
       "<div>\n",
       "<style scoped>\n",
       "    .dataframe tbody tr th:only-of-type {\n",
       "        vertical-align: middle;\n",
       "    }\n",
       "\n",
       "    .dataframe tbody tr th {\n",
       "        vertical-align: top;\n",
       "    }\n",
       "\n",
       "    .dataframe thead th {\n",
       "        text-align: right;\n",
       "    }\n",
       "</style>\n",
       "<table border=\"1\" class=\"dataframe\">\n",
       "  <thead>\n",
       "    <tr style=\"text-align: right;\">\n",
       "      <th></th>\n",
       "      <th>date</th>\n",
       "      <th>date_block_num</th>\n",
       "      <th>shop_id</th>\n",
       "      <th>item_id</th>\n",
       "      <th>item_price</th>\n",
       "      <th>item_cnt_day</th>\n",
       "    </tr>\n",
       "  </thead>\n",
       "  <tbody>\n",
       "    <tr>\n",
       "      <th>0</th>\n",
       "      <td>02.01.2013</td>\n",
       "      <td>0</td>\n",
       "      <td>59</td>\n",
       "      <td>22154</td>\n",
       "      <td>999.00</td>\n",
       "      <td>1.0</td>\n",
       "    </tr>\n",
       "    <tr>\n",
       "      <th>1</th>\n",
       "      <td>03.01.2013</td>\n",
       "      <td>0</td>\n",
       "      <td>25</td>\n",
       "      <td>2552</td>\n",
       "      <td>899.00</td>\n",
       "      <td>1.0</td>\n",
       "    </tr>\n",
       "    <tr>\n",
       "      <th>2</th>\n",
       "      <td>05.01.2013</td>\n",
       "      <td>0</td>\n",
       "      <td>25</td>\n",
       "      <td>2552</td>\n",
       "      <td>899.00</td>\n",
       "      <td>-1.0</td>\n",
       "    </tr>\n",
       "    <tr>\n",
       "      <th>3</th>\n",
       "      <td>06.01.2013</td>\n",
       "      <td>0</td>\n",
       "      <td>25</td>\n",
       "      <td>2554</td>\n",
       "      <td>1709.05</td>\n",
       "      <td>1.0</td>\n",
       "    </tr>\n",
       "    <tr>\n",
       "      <th>4</th>\n",
       "      <td>15.01.2013</td>\n",
       "      <td>0</td>\n",
       "      <td>25</td>\n",
       "      <td>2555</td>\n",
       "      <td>1099.00</td>\n",
       "      <td>1.0</td>\n",
       "    </tr>\n",
       "  </tbody>\n",
       "</table>\n",
       "</div>"
      ],
      "text/plain": [
       "         date  date_block_num  shop_id  item_id  item_price  item_cnt_day\n",
       "0  02.01.2013               0       59    22154      999.00           1.0\n",
       "1  03.01.2013               0       25     2552      899.00           1.0\n",
       "2  05.01.2013               0       25     2552      899.00          -1.0\n",
       "3  06.01.2013               0       25     2554     1709.05           1.0\n",
       "4  15.01.2013               0       25     2555     1099.00           1.0"
      ]
     },
     "execution_count": 2,
     "metadata": {},
     "output_type": "execute_result"
    }
   ],
   "source": [
    "DATA_FOLDER = '../readonly/final_project_data/'\n",
    "\n",
    "sales    = pd.read_csv(os.path.join(DATA_FOLDER, 'sales_train.csv.gz'))\n",
    "items           = pd.read_csv(os.path.join(DATA_FOLDER, 'items.csv'))\n",
    "item_categories = pd.read_csv(os.path.join(DATA_FOLDER, 'item_categories.csv'))\n",
    "shops           = pd.read_csv(os.path.join(DATA_FOLDER, 'shops.csv'))\n",
    "sales.head()"
   ]
  },
  {
   "cell_type": "markdown",
   "metadata": {},
   "source": [
    "# Data Preprocessing\n",
    "## Aggregate daily data into monthly data"
   ]
  },
  {
   "cell_type": "code",
   "execution_count": 3,
   "metadata": {},
   "outputs": [
    {
     "data": {
      "text/html": [
       "<div>\n",
       "<style scoped>\n",
       "    .dataframe tbody tr th:only-of-type {\n",
       "        vertical-align: middle;\n",
       "    }\n",
       "\n",
       "    .dataframe tbody tr th {\n",
       "        vertical-align: top;\n",
       "    }\n",
       "\n",
       "    .dataframe thead th {\n",
       "        text-align: right;\n",
       "    }\n",
       "</style>\n",
       "<table border=\"1\" class=\"dataframe\">\n",
       "  <thead>\n",
       "    <tr style=\"text-align: right;\">\n",
       "      <th></th>\n",
       "      <th>shop_id</th>\n",
       "      <th>item_id</th>\n",
       "      <th>date_block_num</th>\n",
       "      <th>item_cnt_month</th>\n",
       "      <th>item_price</th>\n",
       "    </tr>\n",
       "  </thead>\n",
       "  <tbody>\n",
       "    <tr>\n",
       "      <th>139255</th>\n",
       "      <td>0</td>\n",
       "      <td>19</td>\n",
       "      <td>0</td>\n",
       "      <td>0.0</td>\n",
       "      <td>0.0</td>\n",
       "    </tr>\n",
       "    <tr>\n",
       "      <th>141495</th>\n",
       "      <td>0</td>\n",
       "      <td>27</td>\n",
       "      <td>0</td>\n",
       "      <td>0.0</td>\n",
       "      <td>0.0</td>\n",
       "    </tr>\n",
       "    <tr>\n",
       "      <th>144968</th>\n",
       "      <td>0</td>\n",
       "      <td>28</td>\n",
       "      <td>0</td>\n",
       "      <td>0.0</td>\n",
       "      <td>0.0</td>\n",
       "    </tr>\n",
       "    <tr>\n",
       "      <th>142661</th>\n",
       "      <td>0</td>\n",
       "      <td>29</td>\n",
       "      <td>0</td>\n",
       "      <td>0.0</td>\n",
       "      <td>0.0</td>\n",
       "    </tr>\n",
       "    <tr>\n",
       "      <th>138947</th>\n",
       "      <td>0</td>\n",
       "      <td>32</td>\n",
       "      <td>0</td>\n",
       "      <td>6.0</td>\n",
       "      <td>221.0</td>\n",
       "    </tr>\n",
       "    <tr>\n",
       "      <th>...</th>\n",
       "      <td>...</td>\n",
       "      <td>...</td>\n",
       "      <td>...</td>\n",
       "      <td>...</td>\n",
       "      <td>...</td>\n",
       "    </tr>\n",
       "    <tr>\n",
       "      <th>10768834</th>\n",
       "      <td>59</td>\n",
       "      <td>22162</td>\n",
       "      <td>33</td>\n",
       "      <td>0.0</td>\n",
       "      <td>0.0</td>\n",
       "    </tr>\n",
       "    <tr>\n",
       "      <th>10769024</th>\n",
       "      <td>59</td>\n",
       "      <td>22163</td>\n",
       "      <td>33</td>\n",
       "      <td>0.0</td>\n",
       "      <td>0.0</td>\n",
       "    </tr>\n",
       "    <tr>\n",
       "      <th>10769690</th>\n",
       "      <td>59</td>\n",
       "      <td>22164</td>\n",
       "      <td>33</td>\n",
       "      <td>0.0</td>\n",
       "      <td>0.0</td>\n",
       "    </tr>\n",
       "    <tr>\n",
       "      <th>10771216</th>\n",
       "      <td>59</td>\n",
       "      <td>22166</td>\n",
       "      <td>33</td>\n",
       "      <td>0.0</td>\n",
       "      <td>0.0</td>\n",
       "    </tr>\n",
       "    <tr>\n",
       "      <th>10770511</th>\n",
       "      <td>59</td>\n",
       "      <td>22167</td>\n",
       "      <td>33</td>\n",
       "      <td>0.0</td>\n",
       "      <td>0.0</td>\n",
       "    </tr>\n",
       "  </tbody>\n",
       "</table>\n",
       "<p>10913850 rows × 5 columns</p>\n",
       "</div>"
      ],
      "text/plain": [
       "          shop_id  item_id  date_block_num  item_cnt_month  item_price\n",
       "139255          0       19               0             0.0         0.0\n",
       "141495          0       27               0             0.0         0.0\n",
       "144968          0       28               0             0.0         0.0\n",
       "142661          0       29               0             0.0         0.0\n",
       "138947          0       32               0             6.0       221.0\n",
       "...           ...      ...             ...             ...         ...\n",
       "10768834       59    22162              33             0.0         0.0\n",
       "10769024       59    22163              33             0.0         0.0\n",
       "10769690       59    22164              33             0.0         0.0\n",
       "10771216       59    22166              33             0.0         0.0\n",
       "10770511       59    22167              33             0.0         0.0\n",
       "\n",
       "[10913850 rows x 5 columns]"
      ]
     },
     "execution_count": 3,
     "metadata": {},
     "output_type": "execute_result"
    }
   ],
   "source": [
    "from itertools import product\n",
    "index_cols = ['shop_id', 'item_id', 'date_block_num']\n",
    "\n",
    "# For every month we create a grid from all shops/items combinations from that month\n",
    "grid = [] \n",
    "for block_num in sales['date_block_num'].unique():\n",
    "    cur_shops = sales[sales['date_block_num']==block_num]['shop_id'].unique()\n",
    "    cur_items = sales[sales['date_block_num']==block_num]['item_id'].unique()\n",
    "    grid.append(np.array(list(product(*[cur_shops, cur_items, [block_num]])),dtype='int32'))\n",
    "\n",
    "#turn the grid into pandas dataframe\n",
    "grid = pd.DataFrame(np.vstack(grid), columns = index_cols,dtype=np.int32)\n",
    "\n",
    "#get aggregated values for (shop_id, item_id, month)\n",
    "gb = sales.groupby(index_cols).agg({'item_cnt_day': np.sum, 'item_price': np.mean}).reset_index()\n",
    "\n",
    "#fix column names\n",
    "gb.rename(index=str,columns={'item_cnt_day': 'item_cnt_month'},inplace=True)\n",
    "\n",
    "#join aggregated data to the grid\n",
    "month_sales = pd.merge(grid,gb,how='left',on=index_cols).fillna(0)\n",
    "\n",
    "#sort the data\n",
    "month_sales.sort_values(['date_block_num','shop_id','item_id'],inplace=True)\n",
    "month_sales"
   ]
  },
  {
   "cell_type": "code",
   "execution_count": 4,
   "metadata": {},
   "outputs": [
    {
     "data": {
      "text/html": [
       "<div>\n",
       "<style scoped>\n",
       "    .dataframe tbody tr th:only-of-type {\n",
       "        vertical-align: middle;\n",
       "    }\n",
       "\n",
       "    .dataframe tbody tr th {\n",
       "        vertical-align: top;\n",
       "    }\n",
       "\n",
       "    .dataframe thead th {\n",
       "        text-align: right;\n",
       "    }\n",
       "</style>\n",
       "<table border=\"1\" class=\"dataframe\">\n",
       "  <thead>\n",
       "    <tr style=\"text-align: right;\">\n",
       "      <th></th>\n",
       "      <th>shop_id</th>\n",
       "      <th>item_id</th>\n",
       "      <th>date_block_num</th>\n",
       "      <th>item_cnt_month</th>\n",
       "      <th>item_price</th>\n",
       "    </tr>\n",
       "  </thead>\n",
       "  <tbody>\n",
       "    <tr>\n",
       "      <th>count</th>\n",
       "      <td>1.091385e+07</td>\n",
       "      <td>1.091385e+07</td>\n",
       "      <td>1.091385e+07</td>\n",
       "      <td>1.091385e+07</td>\n",
       "      <td>1.091385e+07</td>\n",
       "    </tr>\n",
       "    <tr>\n",
       "      <th>mean</th>\n",
       "      <td>3.118720e+01</td>\n",
       "      <td>1.130926e+04</td>\n",
       "      <td>1.497334e+01</td>\n",
       "      <td>3.342731e-01</td>\n",
       "      <td>1.166070e+02</td>\n",
       "    </tr>\n",
       "    <tr>\n",
       "      <th>std</th>\n",
       "      <td>1.734959e+01</td>\n",
       "      <td>6.209978e+03</td>\n",
       "      <td>9.495618e+00</td>\n",
       "      <td>3.417243e+00</td>\n",
       "      <td>6.584686e+02</td>\n",
       "    </tr>\n",
       "    <tr>\n",
       "      <th>min</th>\n",
       "      <td>0.000000e+00</td>\n",
       "      <td>0.000000e+00</td>\n",
       "      <td>0.000000e+00</td>\n",
       "      <td>-2.200000e+01</td>\n",
       "      <td>0.000000e+00</td>\n",
       "    </tr>\n",
       "    <tr>\n",
       "      <th>1%</th>\n",
       "      <td>2.000000e+00</td>\n",
       "      <td>3.250000e+02</td>\n",
       "      <td>0.000000e+00</td>\n",
       "      <td>0.000000e+00</td>\n",
       "      <td>0.000000e+00</td>\n",
       "    </tr>\n",
       "    <tr>\n",
       "      <th>50%</th>\n",
       "      <td>3.000000e+01</td>\n",
       "      <td>1.139100e+04</td>\n",
       "      <td>1.400000e+01</td>\n",
       "      <td>0.000000e+00</td>\n",
       "      <td>0.000000e+00</td>\n",
       "    </tr>\n",
       "    <tr>\n",
       "      <th>99%</th>\n",
       "      <td>5.900000e+01</td>\n",
       "      <td>2.192700e+04</td>\n",
       "      <td>3.300000e+01</td>\n",
       "      <td>5.000000e+00</td>\n",
       "      <td>2.189507e+03</td>\n",
       "    </tr>\n",
       "    <tr>\n",
       "      <th>max</th>\n",
       "      <td>5.900000e+01</td>\n",
       "      <td>2.216900e+04</td>\n",
       "      <td>3.300000e+01</td>\n",
       "      <td>2.253000e+03</td>\n",
       "      <td>3.079800e+05</td>\n",
       "    </tr>\n",
       "  </tbody>\n",
       "</table>\n",
       "</div>"
      ],
      "text/plain": [
       "            shop_id       item_id  date_block_num  item_cnt_month  \\\n",
       "count  1.091385e+07  1.091385e+07    1.091385e+07    1.091385e+07   \n",
       "mean   3.118720e+01  1.130926e+04    1.497334e+01    3.342731e-01   \n",
       "std    1.734959e+01  6.209978e+03    9.495618e+00    3.417243e+00   \n",
       "min    0.000000e+00  0.000000e+00    0.000000e+00   -2.200000e+01   \n",
       "1%     2.000000e+00  3.250000e+02    0.000000e+00    0.000000e+00   \n",
       "50%    3.000000e+01  1.139100e+04    1.400000e+01    0.000000e+00   \n",
       "99%    5.900000e+01  2.192700e+04    3.300000e+01    5.000000e+00   \n",
       "max    5.900000e+01  2.216900e+04    3.300000e+01    2.253000e+03   \n",
       "\n",
       "         item_price  \n",
       "count  1.091385e+07  \n",
       "mean   1.166070e+02  \n",
       "std    6.584686e+02  \n",
       "min    0.000000e+00  \n",
       "1%     0.000000e+00  \n",
       "50%    0.000000e+00  \n",
       "99%    2.189507e+03  \n",
       "max    3.079800e+05  "
      ]
     },
     "execution_count": 4,
     "metadata": {},
     "output_type": "execute_result"
    }
   ],
   "source": [
    "month_sales.describe(percentiles=[0.01, 0.99])"
   ]
  },
  {
   "cell_type": "markdown",
   "metadata": {},
   "source": [
    "## Remove outliers\n",
    "### Clip item count to [0, 20] and item price to [0, 10000]"
   ]
  },
  {
   "cell_type": "code",
   "execution_count": 5,
   "metadata": {},
   "outputs": [
    {
     "data": {
      "text/html": [
       "<div>\n",
       "<style scoped>\n",
       "    .dataframe tbody tr th:only-of-type {\n",
       "        vertical-align: middle;\n",
       "    }\n",
       "\n",
       "    .dataframe tbody tr th {\n",
       "        vertical-align: top;\n",
       "    }\n",
       "\n",
       "    .dataframe thead th {\n",
       "        text-align: right;\n",
       "    }\n",
       "</style>\n",
       "<table border=\"1\" class=\"dataframe\">\n",
       "  <thead>\n",
       "    <tr style=\"text-align: right;\">\n",
       "      <th></th>\n",
       "      <th>shop_id</th>\n",
       "      <th>item_id</th>\n",
       "      <th>date_block_num</th>\n",
       "      <th>item_cnt_month</th>\n",
       "      <th>item_price</th>\n",
       "    </tr>\n",
       "  </thead>\n",
       "  <tbody>\n",
       "    <tr>\n",
       "      <th>139255</th>\n",
       "      <td>0</td>\n",
       "      <td>19</td>\n",
       "      <td>0</td>\n",
       "      <td>0.0</td>\n",
       "      <td>0.0</td>\n",
       "    </tr>\n",
       "    <tr>\n",
       "      <th>141495</th>\n",
       "      <td>0</td>\n",
       "      <td>27</td>\n",
       "      <td>0</td>\n",
       "      <td>0.0</td>\n",
       "      <td>0.0</td>\n",
       "    </tr>\n",
       "    <tr>\n",
       "      <th>144968</th>\n",
       "      <td>0</td>\n",
       "      <td>28</td>\n",
       "      <td>0</td>\n",
       "      <td>0.0</td>\n",
       "      <td>0.0</td>\n",
       "    </tr>\n",
       "    <tr>\n",
       "      <th>142661</th>\n",
       "      <td>0</td>\n",
       "      <td>29</td>\n",
       "      <td>0</td>\n",
       "      <td>0.0</td>\n",
       "      <td>0.0</td>\n",
       "    </tr>\n",
       "    <tr>\n",
       "      <th>138947</th>\n",
       "      <td>0</td>\n",
       "      <td>32</td>\n",
       "      <td>0</td>\n",
       "      <td>6.0</td>\n",
       "      <td>221.0</td>\n",
       "    </tr>\n",
       "    <tr>\n",
       "      <th>...</th>\n",
       "      <td>...</td>\n",
       "      <td>...</td>\n",
       "      <td>...</td>\n",
       "      <td>...</td>\n",
       "      <td>...</td>\n",
       "    </tr>\n",
       "    <tr>\n",
       "      <th>10768834</th>\n",
       "      <td>59</td>\n",
       "      <td>22162</td>\n",
       "      <td>33</td>\n",
       "      <td>0.0</td>\n",
       "      <td>0.0</td>\n",
       "    </tr>\n",
       "    <tr>\n",
       "      <th>10769024</th>\n",
       "      <td>59</td>\n",
       "      <td>22163</td>\n",
       "      <td>33</td>\n",
       "      <td>0.0</td>\n",
       "      <td>0.0</td>\n",
       "    </tr>\n",
       "    <tr>\n",
       "      <th>10769690</th>\n",
       "      <td>59</td>\n",
       "      <td>22164</td>\n",
       "      <td>33</td>\n",
       "      <td>0.0</td>\n",
       "      <td>0.0</td>\n",
       "    </tr>\n",
       "    <tr>\n",
       "      <th>10771216</th>\n",
       "      <td>59</td>\n",
       "      <td>22166</td>\n",
       "      <td>33</td>\n",
       "      <td>0.0</td>\n",
       "      <td>0.0</td>\n",
       "    </tr>\n",
       "    <tr>\n",
       "      <th>10770511</th>\n",
       "      <td>59</td>\n",
       "      <td>22167</td>\n",
       "      <td>33</td>\n",
       "      <td>0.0</td>\n",
       "      <td>0.0</td>\n",
       "    </tr>\n",
       "  </tbody>\n",
       "</table>\n",
       "<p>10913850 rows × 5 columns</p>\n",
       "</div>"
      ],
      "text/plain": [
       "          shop_id  item_id  date_block_num  item_cnt_month  item_price\n",
       "139255          0       19               0             0.0         0.0\n",
       "141495          0       27               0             0.0         0.0\n",
       "144968          0       28               0             0.0         0.0\n",
       "142661          0       29               0             0.0         0.0\n",
       "138947          0       32               0             6.0       221.0\n",
       "...           ...      ...             ...             ...         ...\n",
       "10768834       59    22162              33             0.0         0.0\n",
       "10769024       59    22163              33             0.0         0.0\n",
       "10769690       59    22164              33             0.0         0.0\n",
       "10771216       59    22166              33             0.0         0.0\n",
       "10770511       59    22167              33             0.0         0.0\n",
       "\n",
       "[10913850 rows x 5 columns]"
      ]
     },
     "execution_count": 5,
     "metadata": {},
     "output_type": "execute_result"
    }
   ],
   "source": [
    "def clip_values(x, min_val=0, max_val=20): return max(min(x, max_val), min_val)\n",
    "\n",
    "month_sales[\"item_cnt_month\"] = month_sales[\"item_cnt_month\"].apply(clip_values)\n",
    "month_sales[\"item_price\"] = month_sales[\"item_price\"].apply(lambda x: clip_values(x, 0, 10000))\n",
    "month_sales"
   ]
  },
  {
   "cell_type": "markdown",
   "metadata": {},
   "source": [
    "# EDA"
   ]
  },
  {
   "cell_type": "code",
   "execution_count": 6,
   "metadata": {},
   "outputs": [
    {
     "data": {
      "text/plain": [
       "Text(0, 0.5, 'average item counts')"
      ]
     },
     "execution_count": 6,
     "metadata": {},
     "output_type": "execute_result"
    },
    {
     "data": {
      "image/png": "[encoded data removed]",
      "text/plain": [
       "<Figure size 432x288 with 1 Axes>"
      ]
     },
     "metadata": {
      "needs_background": "light"
     },
     "output_type": "display_data"
    }
   ],
   "source": [
    "month_stats = month_sales.groupby(\"date_block_num\")[[\"item_cnt_month\", \"item_price\"]].mean()\n",
    "fig = month_stats[\"item_cnt_month\"].plot.line()\n",
    "fig.set_xlabel(\"month\")\n",
    "fig.set_ylabel(\"average item counts\")"
   ]
  },
  {
   "cell_type": "code",
   "execution_count": 7,
   "metadata": {},
   "outputs": [
    {
     "data": {
      "text/plain": [
       "Text(0, 0.5, 'average item price')"
      ]
     },
     "execution_count": 7,
     "metadata": {},
     "output_type": "execute_result"
    },
    {
     "data": {
      "image/png": "[encoded data removed]",
      "text/plain": [
       "<Figure size 432x288 with 1 Axes>"
      ]
     },
     "metadata": {
      "needs_background": "light"
     },
     "output_type": "display_data"
    }
   ],
   "source": [
    "fig = month_stats[\"item_price\"].plot.line()\n",
    "fig.set_xlabel(\"month\")\n",
    "fig.set_ylabel(\"average item price\")"
   ]
  },
  {
   "cell_type": "markdown",
   "metadata": {},
   "source": [
    "## Decompose trends and seasonal pattern"
   ]
  },
  {
   "cell_type": "code",
   "execution_count": 8,
   "metadata": {},
   "outputs": [
    {
     "name": "stdout",
     "output_type": "stream",
     "text": [
      "Figure(432x288)\n"
     ]
    },
    {
     "data": {
      "image/png": "[encoded data removed]",
      "text/plain": [
       "<Figure size 432x288 with 4 Axes>"
      ]
     },
     "metadata": {
      "needs_background": "light"
     },
     "output_type": "display_data"
    }
   ],
   "source": [
    "from statsmodels.tsa.seasonal import seasonal_decompose\n",
    "comp_sales = seasonal_decompose(month_stats[\"item_cnt_month\"].values, \n",
    "                            model=\"additive\", \n",
    "                            period=12,\n",
    "                            extrapolate_trend=12)\n",
    "print(comp_sales.plot())"
   ]
  },
  {
   "cell_type": "code",
   "execution_count": 9,
   "metadata": {},
   "outputs": [
    {
     "name": "stdout",
     "output_type": "stream",
     "text": [
      "Figure(432x288)\n"
     ]
    },
    {
     "data": {
      "image/png": "[encoded data removed]",
      "text/plain": [
       "<Figure size 432x288 with 4 Axes>"
      ]
     },
     "metadata": {
      "needs_background": "light"
     },
     "output_type": "display_data"
    }
   ],
   "source": [
    "comp_price = seasonal_decompose(month_stats[\"item_price\"].values, \n",
    "                            model=\"additive\", \n",
    "                            period=12,\n",
    "                            extrapolate_trend=12)\n",
    "print(comp_price.plot())"
   ]
  },
  {
   "cell_type": "markdown",
   "metadata": {},
   "source": [
    "> Down trend and seasonal pattern with period of one year are observed from monthly sales and price. We can decompose the data into three components."
   ]
  },
  {
   "cell_type": "markdown",
   "metadata": {},
   "source": [
    "# Feature Extraction"
   ]
  },
  {
   "cell_type": "markdown",
   "metadata": {},
   "source": [
    "## Add month lag features"
   ]
  },
  {
   "cell_type": "code",
   "execution_count": 10,
   "metadata": {},
   "outputs": [
    {
     "data": {
      "text/html": [
       "<div>\n",
       "<style scoped>\n",
       "    .dataframe tbody tr th:only-of-type {\n",
       "        vertical-align: middle;\n",
       "    }\n",
       "\n",
       "    .dataframe tbody tr th {\n",
       "        vertical-align: top;\n",
       "    }\n",
       "\n",
       "    .dataframe thead th {\n",
       "        text-align: right;\n",
       "    }\n",
       "</style>\n",
       "<table border=\"1\" class=\"dataframe\">\n",
       "  <thead>\n",
       "    <tr style=\"text-align: right;\">\n",
       "      <th></th>\n",
       "      <th>shop_id</th>\n",
       "      <th>item_id</th>\n",
       "      <th>date_block_num</th>\n",
       "      <th>item_cnt_month</th>\n",
       "      <th>item_price</th>\n",
       "      <th>ID</th>\n",
       "    </tr>\n",
       "  </thead>\n",
       "  <tbody>\n",
       "    <tr>\n",
       "      <th>139255</th>\n",
       "      <td>0</td>\n",
       "      <td>19</td>\n",
       "      <td>0</td>\n",
       "      <td>0.0</td>\n",
       "      <td>0.0</td>\n",
       "      <td>-1</td>\n",
       "    </tr>\n",
       "    <tr>\n",
       "      <th>141495</th>\n",
       "      <td>0</td>\n",
       "      <td>27</td>\n",
       "      <td>0</td>\n",
       "      <td>0.0</td>\n",
       "      <td>0.0</td>\n",
       "      <td>-1</td>\n",
       "    </tr>\n",
       "    <tr>\n",
       "      <th>144968</th>\n",
       "      <td>0</td>\n",
       "      <td>28</td>\n",
       "      <td>0</td>\n",
       "      <td>0.0</td>\n",
       "      <td>0.0</td>\n",
       "      <td>-1</td>\n",
       "    </tr>\n",
       "    <tr>\n",
       "      <th>142661</th>\n",
       "      <td>0</td>\n",
       "      <td>29</td>\n",
       "      <td>0</td>\n",
       "      <td>0.0</td>\n",
       "      <td>0.0</td>\n",
       "      <td>-1</td>\n",
       "    </tr>\n",
       "    <tr>\n",
       "      <th>138947</th>\n",
       "      <td>0</td>\n",
       "      <td>32</td>\n",
       "      <td>0</td>\n",
       "      <td>6.0</td>\n",
       "      <td>221.0</td>\n",
       "      <td>-1</td>\n",
       "    </tr>\n",
       "  </tbody>\n",
       "</table>\n",
       "</div>"
      ],
      "text/plain": [
       "        shop_id  item_id  date_block_num  item_cnt_month  item_price  ID\n",
       "139255        0       19               0             0.0         0.0  -1\n",
       "141495        0       27               0             0.0         0.0  -1\n",
       "144968        0       28               0             0.0         0.0  -1\n",
       "142661        0       29               0             0.0         0.0  -1\n",
       "138947        0       32               0             6.0       221.0  -1"
      ]
     },
     "execution_count": 10,
     "metadata": {},
     "output_type": "execute_result"
    }
   ],
   "source": [
    "## Combine train and test for lag features\n",
    "last_block = month_sales.date_block_num.max()\n",
    "test = pd.read_csv(os.path.join(DATA_FOLDER, 'test.csv.gz'))\n",
    "test[\"date_block_num\"] = last_block + 1\n",
    "month_sales[\"ID\"] = -1\n",
    "all_data = month_sales.append(test)\n",
    "all_data.head()"
   ]
  },
  {
   "cell_type": "code",
   "execution_count": 11,
   "metadata": {},
   "outputs": [
    {
     "data": {
      "text/html": [
       "<div>\n",
       "<style scoped>\n",
       "    .dataframe tbody tr th:only-of-type {\n",
       "        vertical-align: middle;\n",
       "    }\n",
       "\n",
       "    .dataframe tbody tr th {\n",
       "        vertical-align: top;\n",
       "    }\n",
       "\n",
       "    .dataframe thead th {\n",
       "        text-align: right;\n",
       "    }\n",
       "</style>\n",
       "<table border=\"1\" class=\"dataframe\">\n",
       "  <thead>\n",
       "    <tr style=\"text-align: right;\">\n",
       "      <th></th>\n",
       "      <th>shop_id</th>\n",
       "      <th>item_id</th>\n",
       "      <th>date_block_num</th>\n",
       "      <th>item_cnt_month</th>\n",
       "      <th>item_price</th>\n",
       "      <th>ID</th>\n",
       "      <th>item_cnt_month_lag_1</th>\n",
       "      <th>item_price_lag_1</th>\n",
       "      <th>item_cnt_month_lag_2</th>\n",
       "      <th>item_price_lag_2</th>\n",
       "      <th>...</th>\n",
       "      <th>item_cnt_month_lag_9</th>\n",
       "      <th>item_price_lag_9</th>\n",
       "      <th>item_cnt_month_lag_10</th>\n",
       "      <th>item_price_lag_10</th>\n",
       "      <th>item_cnt_month_lag_11</th>\n",
       "      <th>item_price_lag_11</th>\n",
       "      <th>item_cnt_month_lag_12</th>\n",
       "      <th>item_price_lag_12</th>\n",
       "      <th>item_cnt_month_lag_13</th>\n",
       "      <th>item_price_lag_13</th>\n",
       "    </tr>\n",
       "  </thead>\n",
       "  <tbody>\n",
       "    <tr>\n",
       "      <th>0</th>\n",
       "      <td>0</td>\n",
       "      <td>19</td>\n",
       "      <td>0</td>\n",
       "      <td>0.0</td>\n",
       "      <td>0.0</td>\n",
       "      <td>-1</td>\n",
       "      <td>NaN</td>\n",
       "      <td>NaN</td>\n",
       "      <td>NaN</td>\n",
       "      <td>NaN</td>\n",
       "      <td>...</td>\n",
       "      <td>NaN</td>\n",
       "      <td>NaN</td>\n",
       "      <td>NaN</td>\n",
       "      <td>NaN</td>\n",
       "      <td>NaN</td>\n",
       "      <td>NaN</td>\n",
       "      <td>NaN</td>\n",
       "      <td>NaN</td>\n",
       "      <td>NaN</td>\n",
       "      <td>NaN</td>\n",
       "    </tr>\n",
       "    <tr>\n",
       "      <th>1</th>\n",
       "      <td>0</td>\n",
       "      <td>27</td>\n",
       "      <td>0</td>\n",
       "      <td>0.0</td>\n",
       "      <td>0.0</td>\n",
       "      <td>-1</td>\n",
       "      <td>NaN</td>\n",
       "      <td>NaN</td>\n",
       "      <td>NaN</td>\n",
       "      <td>NaN</td>\n",
       "      <td>...</td>\n",
       "      <td>NaN</td>\n",
       "      <td>NaN</td>\n",
       "      <td>NaN</td>\n",
       "      <td>NaN</td>\n",
       "      <td>NaN</td>\n",
       "      <td>NaN</td>\n",
       "      <td>NaN</td>\n",
       "      <td>NaN</td>\n",
       "      <td>NaN</td>\n",
       "      <td>NaN</td>\n",
       "    </tr>\n",
       "    <tr>\n",
       "      <th>2</th>\n",
       "      <td>0</td>\n",
       "      <td>28</td>\n",
       "      <td>0</td>\n",
       "      <td>0.0</td>\n",
       "      <td>0.0</td>\n",
       "      <td>-1</td>\n",
       "      <td>NaN</td>\n",
       "      <td>NaN</td>\n",
       "      <td>NaN</td>\n",
       "      <td>NaN</td>\n",
       "      <td>...</td>\n",
       "      <td>NaN</td>\n",
       "      <td>NaN</td>\n",
       "      <td>NaN</td>\n",
       "      <td>NaN</td>\n",
       "      <td>NaN</td>\n",
       "      <td>NaN</td>\n",
       "      <td>NaN</td>\n",
       "      <td>NaN</td>\n",
       "      <td>NaN</td>\n",
       "      <td>NaN</td>\n",
       "    </tr>\n",
       "    <tr>\n",
       "      <th>3</th>\n",
       "      <td>0</td>\n",
       "      <td>29</td>\n",
       "      <td>0</td>\n",
       "      <td>0.0</td>\n",
       "      <td>0.0</td>\n",
       "      <td>-1</td>\n",
       "      <td>NaN</td>\n",
       "      <td>NaN</td>\n",
       "      <td>NaN</td>\n",
       "      <td>NaN</td>\n",
       "      <td>...</td>\n",
       "      <td>NaN</td>\n",
       "      <td>NaN</td>\n",
       "      <td>NaN</td>\n",
       "      <td>NaN</td>\n",
       "      <td>NaN</td>\n",
       "      <td>NaN</td>\n",
       "      <td>NaN</td>\n",
       "      <td>NaN</td>\n",
       "      <td>NaN</td>\n",
       "      <td>NaN</td>\n",
       "    </tr>\n",
       "    <tr>\n",
       "      <th>4</th>\n",
       "      <td>0</td>\n",
       "      <td>32</td>\n",
       "      <td>0</td>\n",
       "      <td>6.0</td>\n",
       "      <td>221.0</td>\n",
       "      <td>-1</td>\n",
       "      <td>NaN</td>\n",
       "      <td>NaN</td>\n",
       "      <td>NaN</td>\n",
       "      <td>NaN</td>\n",
       "      <td>...</td>\n",
       "      <td>NaN</td>\n",
       "      <td>NaN</td>\n",
       "      <td>NaN</td>\n",
       "      <td>NaN</td>\n",
       "      <td>NaN</td>\n",
       "      <td>NaN</td>\n",
       "      <td>NaN</td>\n",
       "      <td>NaN</td>\n",
       "      <td>NaN</td>\n",
       "      <td>NaN</td>\n",
       "    </tr>\n",
       "    <tr>\n",
       "      <th>...</th>\n",
       "      <td>...</td>\n",
       "      <td>...</td>\n",
       "      <td>...</td>\n",
       "      <td>...</td>\n",
       "      <td>...</td>\n",
       "      <td>...</td>\n",
       "      <td>...</td>\n",
       "      <td>...</td>\n",
       "      <td>...</td>\n",
       "      <td>...</td>\n",
       "      <td>...</td>\n",
       "      <td>...</td>\n",
       "      <td>...</td>\n",
       "      <td>...</td>\n",
       "      <td>...</td>\n",
       "      <td>...</td>\n",
       "      <td>...</td>\n",
       "      <td>...</td>\n",
       "      <td>...</td>\n",
       "      <td>...</td>\n",
       "      <td>...</td>\n",
       "    </tr>\n",
       "    <tr>\n",
       "      <th>11128045</th>\n",
       "      <td>45</td>\n",
       "      <td>18454</td>\n",
       "      <td>34</td>\n",
       "      <td>NaN</td>\n",
       "      <td>NaN</td>\n",
       "      <td>214195</td>\n",
       "      <td>1.0</td>\n",
       "      <td>99.0</td>\n",
       "      <td>0.0</td>\n",
       "      <td>0.0</td>\n",
       "      <td>...</td>\n",
       "      <td>1.0</td>\n",
       "      <td>199.0</td>\n",
       "      <td>2.0</td>\n",
       "      <td>199.0</td>\n",
       "      <td>4.0</td>\n",
       "      <td>199.0</td>\n",
       "      <td>NaN</td>\n",
       "      <td>NaN</td>\n",
       "      <td>NaN</td>\n",
       "      <td>NaN</td>\n",
       "    </tr>\n",
       "    <tr>\n",
       "      <th>11128046</th>\n",
       "      <td>45</td>\n",
       "      <td>16188</td>\n",
       "      <td>34</td>\n",
       "      <td>NaN</td>\n",
       "      <td>NaN</td>\n",
       "      <td>214196</td>\n",
       "      <td>0.0</td>\n",
       "      <td>0.0</td>\n",
       "      <td>0.0</td>\n",
       "      <td>0.0</td>\n",
       "      <td>...</td>\n",
       "      <td>NaN</td>\n",
       "      <td>NaN</td>\n",
       "      <td>NaN</td>\n",
       "      <td>NaN</td>\n",
       "      <td>NaN</td>\n",
       "      <td>NaN</td>\n",
       "      <td>NaN</td>\n",
       "      <td>NaN</td>\n",
       "      <td>NaN</td>\n",
       "      <td>NaN</td>\n",
       "    </tr>\n",
       "    <tr>\n",
       "      <th>11128047</th>\n",
       "      <td>45</td>\n",
       "      <td>15757</td>\n",
       "      <td>34</td>\n",
       "      <td>NaN</td>\n",
       "      <td>NaN</td>\n",
       "      <td>214197</td>\n",
       "      <td>0.0</td>\n",
       "      <td>0.0</td>\n",
       "      <td>0.0</td>\n",
       "      <td>0.0</td>\n",
       "      <td>...</td>\n",
       "      <td>1.0</td>\n",
       "      <td>199.0</td>\n",
       "      <td>1.0</td>\n",
       "      <td>199.0</td>\n",
       "      <td>0.0</td>\n",
       "      <td>0.0</td>\n",
       "      <td>0.0</td>\n",
       "      <td>0.0</td>\n",
       "      <td>0.0</td>\n",
       "      <td>0.0</td>\n",
       "    </tr>\n",
       "    <tr>\n",
       "      <th>11128048</th>\n",
       "      <td>45</td>\n",
       "      <td>19648</td>\n",
       "      <td>34</td>\n",
       "      <td>NaN</td>\n",
       "      <td>NaN</td>\n",
       "      <td>214198</td>\n",
       "      <td>0.0</td>\n",
       "      <td>0.0</td>\n",
       "      <td>0.0</td>\n",
       "      <td>0.0</td>\n",
       "      <td>...</td>\n",
       "      <td>0.0</td>\n",
       "      <td>0.0</td>\n",
       "      <td>0.0</td>\n",
       "      <td>0.0</td>\n",
       "      <td>0.0</td>\n",
       "      <td>0.0</td>\n",
       "      <td>NaN</td>\n",
       "      <td>NaN</td>\n",
       "      <td>NaN</td>\n",
       "      <td>NaN</td>\n",
       "    </tr>\n",
       "    <tr>\n",
       "      <th>11128049</th>\n",
       "      <td>45</td>\n",
       "      <td>969</td>\n",
       "      <td>34</td>\n",
       "      <td>NaN</td>\n",
       "      <td>NaN</td>\n",
       "      <td>214199</td>\n",
       "      <td>0.0</td>\n",
       "      <td>0.0</td>\n",
       "      <td>0.0</td>\n",
       "      <td>0.0</td>\n",
       "      <td>...</td>\n",
       "      <td>0.0</td>\n",
       "      <td>0.0</td>\n",
       "      <td>0.0</td>\n",
       "      <td>0.0</td>\n",
       "      <td>0.0</td>\n",
       "      <td>0.0</td>\n",
       "      <td>0.0</td>\n",
       "      <td>0.0</td>\n",
       "      <td>0.0</td>\n",
       "      <td>0.0</td>\n",
       "    </tr>\n",
       "  </tbody>\n",
       "</table>\n",
       "<p>11128050 rows × 32 columns</p>\n",
       "</div>"
      ],
      "text/plain": [
       "          shop_id  item_id  date_block_num  item_cnt_month  item_price  \\\n",
       "0               0       19               0             0.0         0.0   \n",
       "1               0       27               0             0.0         0.0   \n",
       "2               0       28               0             0.0         0.0   \n",
       "3               0       29               0             0.0         0.0   \n",
       "4               0       32               0             6.0       221.0   \n",
       "...           ...      ...             ...             ...         ...   \n",
       "11128045       45    18454              34             NaN         NaN   \n",
       "11128046       45    16188              34             NaN         NaN   \n",
       "11128047       45    15757              34             NaN         NaN   \n",
       "11128048       45    19648              34             NaN         NaN   \n",
       "11128049       45      969              34             NaN         NaN   \n",
       "\n",
       "              ID  item_cnt_month_lag_1  item_price_lag_1  \\\n",
       "0             -1                   NaN               NaN   \n",
       "1             -1                   NaN               NaN   \n",
       "2             -1                   NaN               NaN   \n",
       "3             -1                   NaN               NaN   \n",
       "4             -1                   NaN               NaN   \n",
       "...          ...                   ...               ...   \n",
       "11128045  214195                   1.0              99.0   \n",
       "11128046  214196                   0.0               0.0   \n",
       "11128047  214197                   0.0               0.0   \n",
       "11128048  214198                   0.0               0.0   \n",
       "11128049  214199                   0.0               0.0   \n",
       "\n",
       "          item_cnt_month_lag_2  item_price_lag_2  ...  item_cnt_month_lag_9  \\\n",
       "0                          NaN               NaN  ...                   NaN   \n",
       "1                          NaN               NaN  ...                   NaN   \n",
       "2                          NaN               NaN  ...                   NaN   \n",
       "3                          NaN               NaN  ...                   NaN   \n",
       "4                          NaN               NaN  ...                   NaN   \n",
       "...                        ...               ...  ...                   ...   \n",
       "11128045                   0.0               0.0  ...                   1.0   \n",
       "11128046                   0.0               0.0  ...                   NaN   \n",
       "11128047                   0.0               0.0  ...                   1.0   \n",
       "11128048                   0.0               0.0  ...                   0.0   \n",
       "11128049                   0.0               0.0  ...                   0.0   \n",
       "\n",
       "          item_price_lag_9  item_cnt_month_lag_10  item_price_lag_10  \\\n",
       "0                      NaN                    NaN                NaN   \n",
       "1                      NaN                    NaN                NaN   \n",
       "2                      NaN                    NaN                NaN   \n",
       "3                      NaN                    NaN                NaN   \n",
       "4                      NaN                    NaN                NaN   \n",
       "...                    ...                    ...                ...   \n",
       "11128045             199.0                    2.0              199.0   \n",
       "11128046               NaN                    NaN                NaN   \n",
       "11128047             199.0                    1.0              199.0   \n",
       "11128048               0.0                    0.0                0.0   \n",
       "11128049               0.0                    0.0                0.0   \n",
       "\n",
       "          item_cnt_month_lag_11  item_price_lag_11  item_cnt_month_lag_12  \\\n",
       "0                           NaN                NaN                    NaN   \n",
       "1                           NaN                NaN                    NaN   \n",
       "2                           NaN                NaN                    NaN   \n",
       "3                           NaN                NaN                    NaN   \n",
       "4                           NaN                NaN                    NaN   \n",
       "...                         ...                ...                    ...   \n",
       "11128045                    4.0              199.0                    NaN   \n",
       "11128046                    NaN                NaN                    NaN   \n",
       "11128047                    0.0                0.0                    0.0   \n",
       "11128048                    0.0                0.0                    NaN   \n",
       "11128049                    0.0                0.0                    0.0   \n",
       "\n",
       "          item_price_lag_12  item_cnt_month_lag_13  item_price_lag_13  \n",
       "0                       NaN                    NaN                NaN  \n",
       "1                       NaN                    NaN                NaN  \n",
       "2                       NaN                    NaN                NaN  \n",
       "3                       NaN                    NaN                NaN  \n",
       "4                       NaN                    NaN                NaN  \n",
       "...                     ...                    ...                ...  \n",
       "11128045                NaN                    NaN                NaN  \n",
       "11128046                NaN                    NaN                NaN  \n",
       "11128047                0.0                    0.0                0.0  \n",
       "11128048                NaN                    NaN                NaN  \n",
       "11128049                0.0                    0.0                0.0  \n",
       "\n",
       "[11128050 rows x 32 columns]"
      ]
     },
     "execution_count": 11,
     "metadata": {},
     "output_type": "execute_result"
    }
   ],
   "source": [
    "index_cols = ['shop_id', 'item_id', 'date_block_num']\n",
    "cols_to_rename = [\"item_cnt_month\", \"item_price\"]\n",
    "\n",
    "shift_range = [i+1 for i in range(13)]\n",
    "min_date_block = 13\n",
    "\n",
    "lag_features = []\n",
    "\n",
    "for month_shift in shift_range:\n",
    "    all_data_shift = all_data[index_cols + cols_to_rename].copy()\n",
    "    \n",
    "    all_data_shift['date_block_num'] = all_data_shift['date_block_num'] + month_shift\n",
    "    \n",
    "    foo = lambda x: '{}_lag_{}'.format(x, month_shift) if x in cols_to_rename else x\n",
    "    all_data_shift = all_data_shift.rename(columns=foo)\n",
    "\n",
    "    lag_features += ['{}_lag_{}'.format(x, month_shift) for x in cols_to_rename]\n",
    "    all_data = pd.merge(all_data, all_data_shift, on=index_cols, how='left')\n",
    "\n",
    "del all_data_shift\n",
    "\n",
    "all_data"
   ]
  },
  {
   "cell_type": "code",
   "execution_count": 12,
   "metadata": {},
   "outputs": [],
   "source": [
    "## Split train and test data\n",
    "train_data = all_data[all_data.date_block_num <= last_block].copy()\n",
    "del train_data[\"ID\"]\n",
    "test_data = all_data[all_data.date_block_num == last_block + 1].copy()\n",
    "\n",
    "## map item to category\n",
    "item_category_map = dict(zip(items[\"item_id\"], items[\"item_category_id\"]))\n",
    "train_data[\"category_id\"] = train_data[\"item_id\"].map(item_category_map)\n",
    "test_data[\"category_id\"]  = test_data[\"item_id\"].map(item_category_map)\n",
    "\n",
    "## generate shop item pairs\n",
    "train_data[\"shop_item_id\"] = train_data[\"shop_id\"].astype(str) + \"-\" + train_data[\"item_id\"].astype(str)\n",
    "test_data[\"shop_item_id\"] = test_data[\"shop_id\"].astype(str) + \"-\" + test_data[\"item_id\"].astype(str)"
   ]
  },
  {
   "cell_type": "markdown",
   "metadata": {},
   "source": [
    "## Add mean encoding"
   ]
  },
  {
   "cell_type": "code",
   "execution_count": 13,
   "metadata": {},
   "outputs": [],
   "source": [
    "target = \"item_cnt_month\"\n",
    "alpha1 = 100\n",
    "alpha2 = 10\n",
    "\n",
    "target_mean = train_data[target].mean()\n",
    "item_target_mean = train_data.groupby(\"item_id\")[target].transform(\"mean\")\n",
    "item_target_count = train_data.groupby(\"item_id\")[target].transform(\"count\")\n",
    "train_data[\"item_target_enc\"] = (item_target_mean * item_target_count + target_mean * alpha1) / (item_target_count + alpha1)\n",
    "train_data[\"item_target_enc\"].fillna(target_mean, inplace=True)\n",
    "\n",
    "shop_target_mean = train_data.groupby(\"shop_id\")[target].transform(\"mean\")\n",
    "shop_target_count = train_data.groupby(\"shop_id\")[target].transform(\"count\")\n",
    "train_data[\"shop_target_enc\"] = (shop_target_mean * shop_target_count + target_mean * alpha1) / (shop_target_count + alpha1)\n",
    "train_data[\"shop_target_enc\"].fillna(target_mean, inplace=True)\n",
    "\n",
    "cate_target_mean = train_data.groupby(\"category_id\")[target].transform(\"mean\")\n",
    "cate_target_count = train_data.groupby(\"category_id\")[target].transform(\"count\")\n",
    "train_data[\"cate_target_enc\"] = (cate_target_mean * cate_target_count + target_mean * alpha1) / (cate_target_count + alpha1)\n",
    "train_data[\"cate_target_enc\"].fillna(target_mean, inplace=True)\n",
    "\n",
    "shop_item_target_mean = train_data.groupby(\"shop_item_id\")[target].transform(\"mean\")\n",
    "shop_item_target_count = train_data.groupby(\"shop_item_id\")[target].transform(\"count\")\n",
    "train_data[\"shop_item_target_enc\"] = (shop_item_target_mean * shop_item_target_count + target_mean * alpha2) / (shop_item_target_count + alpha2)\n",
    "train_data[\"shop_item_target_enc\"].fillna(target_mean, inplace=True)"
   ]
  },
  {
   "cell_type": "code",
   "execution_count": 14,
   "metadata": {},
   "outputs": [],
   "source": [
    "## add mean encoding to test data\n",
    "\n",
    "item_target_enc_map = train_data.groupby(\"item_id\")[\"item_target_enc\"].first()\n",
    "shop_target_enc_map = train_data.groupby(\"shop_id\")[\"shop_target_enc\"].first()\n",
    "cate_target_enc_map = train_data.groupby(\"category_id\")[\"cate_target_enc\"].first()\n",
    "shop_item_target_enc_map = train_data.groupby(\"shop_item_id\")[\"shop_item_target_enc\"].first()\n",
    "\n",
    "test_data[\"item_target_enc\"] = test_data[\"item_id\"].map(item_target_enc_map)\n",
    "test_data[\"item_target_enc\"].fillna(target_mean, inplace=True)\n",
    "\n",
    "test_data[\"shop_target_enc\"] = test_data[\"shop_id\"].map(shop_target_enc_map)\n",
    "test_data[\"shop_target_enc\"].fillna(target_mean, inplace=True)\n",
    "\n",
    "test_data[\"cate_target_enc\"] = test_data[\"category_id\"].map(cate_target_enc_map)\n",
    "test_data[\"cate_target_enc\"].fillna(target_mean, inplace=True)\n",
    "\n",
    "test_data[\"shop_item_target_enc\"] = test_data[\"shop_item_id\"].map(shop_item_target_enc_map)\n",
    "test_data[\"shop_item_target_enc\"].fillna(target_mean, inplace=True)\n",
    "\n",
    "enc_features = ['item_target_enc', 'shop_target_enc', 'cate_target_enc', 'shop_item_target_enc']"
   ]
  },
  {
   "cell_type": "markdown",
   "metadata": {},
   "source": [
    "## Add month feature"
   ]
  },
  {
   "cell_type": "code",
   "execution_count": 15,
   "metadata": {},
   "outputs": [],
   "source": [
    "train_data[\"month\"] = train_data[\"date_block_num\"].map(lambda x: x % 12)\n",
    "test_data[\"month\"] = test_data[\"date_block_num\"].map(lambda x: x % 12)\n",
    "month_features = [\"month\"]"
   ]
  },
  {
   "cell_type": "markdown",
   "metadata": {},
   "source": [
    "## Add year difference"
   ]
  },
  {
   "cell_type": "code",
   "execution_count": 16,
   "metadata": {},
   "outputs": [],
   "source": [
    "train_data[\"item_cnt_year_diff\"] = train_data[\"item_cnt_month_lag_1\"] - train_data[\"item_cnt_month_lag_13\"]\n",
    "train_data[\"item_price_year_diff\"] = train_data[\"item_price_lag_1\"] - train_data[\"item_price_lag_13\"]\n",
    "\n",
    "test_data[\"item_cnt_year_diff\"] = test_data[\"item_cnt_month_lag_1\"] - test_data[\"item_cnt_month_lag_13\"]\n",
    "test_data[\"item_price_year_diff\"] = test_data[\"item_price_lag_1\"] - test_data[\"item_price_lag_13\"]\n",
    "\n",
    "diff_features = [\"item_cnt_year_diff\", \"item_price_year_diff\"]"
   ]
  },
  {
   "cell_type": "markdown",
   "metadata": {},
   "source": [
    "# Prepare training, validation and test data"
   ]
  },
  {
   "cell_type": "markdown",
   "metadata": {},
   "source": [
    "##  Prepare data processing pipelines"
   ]
  },
  {
   "cell_type": "code",
   "execution_count": 17,
   "metadata": {},
   "outputs": [],
   "source": [
    "features = lag_features + enc_features + month_features + diff_features\n",
    "train_data = train_data[train_data.date_block_num >= min_date_block]\n",
    "\n",
    "dates_train = [d for d in range(27, last_block)]"
   ]
  },
  {
   "cell_type": "markdown",
   "metadata": {},
   "source": [
    "## Test meta-features"
   ]
  },
  {
   "cell_type": "code",
   "execution_count": 19,
   "metadata": {},
   "outputs": [
    {
     "name": "stdout",
     "output_type": "stream",
     "text": [
      "RMSE for linear regression: 0.9427704796447961\n"
     ]
    }
   ],
   "source": [
    "from sklearn.impute import SimpleImputer\n",
    "from sklearn.pipeline import Pipeline\n",
    "from sklearn.preprocessing import StandardScaler, OneHotEncoder\n",
    "from sklearn.compose import ColumnTransformer\n",
    "from sklearn.metrics import mean_squared_error\n",
    "from sklearn.linear_model import LinearRegression\n",
    "\n",
    "## linear regression\n",
    "num_pipeline_1 = Pipeline([('imputer_1', SimpleImputer(strategy='constant', fill_value=0)), \n",
    "                         ('std_scaler_1', StandardScaler())])\n",
    "\n",
    "num_pipeline_2 = Pipeline([('imputer_2', SimpleImputer(strategy='mean')), \n",
    "                         ('std_scaler_2', StandardScaler())])\n",
    "\n",
    "\n",
    "cat_pipeline = Pipeline([('one_hot_enc', OneHotEncoder())])\n",
    "lr_pipeline = ColumnTransformer([\n",
    "        (\"num_1\", num_pipeline_1, lag_features),\n",
    "        (\"num_2\", num_pipeline_1, diff_features + enc_features),\n",
    "        (\"cat\", cat_pipeline, month_features),\n",
    "    ])\n",
    "\n",
    "lr_reg = LinearRegression()\n",
    "X_train_block = train_data[train_data.date_block_num < last_block][features]\n",
    "X_test_block = train_data[train_data.date_block_num == last_block][features]\n",
    "\n",
    "Y_train_block = train_data[train_data.date_block_num < last_block][target]\n",
    "Y_test_block = train_data[train_data.date_block_num == last_block][target]\n",
    "\n",
    "X_train_prepared = lr_pipeline.fit_transform(X_train_block)\n",
    "X_test_prepared = lr_pipeline.transform(X_test_block)\n",
    "\n",
    "lr_reg.fit(X_train_prepared, Y_train_block.values)\n",
    "pred_lr = lr_reg.predict(X_test_prepared)\n",
    "\n",
    "rmse_lr = np.sqrt(mean_squared_error(Y_test_block.values, pred_lr))\n",
    "print(f\"RMSE for linear regression: {rmse_lr}\")"
   ]
  },
  {
   "cell_type": "code",
   "execution_count": 20,
   "metadata": {},
   "outputs": [
    {
     "name": "stdout",
     "output_type": "stream",
     "text": [
      "[LightGBM] [Warning] Auto-choosing row-wise multi-threading, the overhead of testing was 0.394037 seconds.\n",
      "You can set `force_row_wise=true` to remove the overhead.\n",
      "And if memory is not enough, you can set `force_col_wise=true`.\n",
      "RMSE for ligthGBM: 0.6599715695933156\n"
     ]
    }
   ],
   "source": [
    "## lightGBM\n",
    "import lightgbm as lgb\n",
    "lgb_pipeline = SimpleImputer(strategy='constant', fill_value=-999999)\n",
    "\n",
    "lgb_params = {\n",
    "               'feature_fraction': 0.75,\n",
    "               'metric': 'rmse',\n",
    "               'nthread':2, \n",
    "               'min_data_in_leaf': 2**7, \n",
    "               'bagging_fraction': 0.75, \n",
    "               'learning_rate': 0.03, \n",
    "               'objective': 'mse', \n",
    "               'bagging_seed': 42, \n",
    "               'num_leaves': 2**7,\n",
    "               'bagging_freq':1,\n",
    "               'verbose':0 \n",
    "              }\n",
    "\n",
    "X_train_prepared = lgb_pipeline.fit_transform(X_train_block)\n",
    "X_test_prepared = lgb_pipeline.transform(X_test_block)\n",
    "    \n",
    "train_ds= lgb.Dataset(X_train_prepared, label=Y_train_block)\n",
    "lgb_reg = lgb.train(lgb_params, train_ds, 100)\n",
    "pred_lgb = lgb_reg.predict(X_test_prepared)\n",
    "\n",
    "rmse_lgb = np.sqrt(mean_squared_error(Y_test_block.values, pred_lgb))\n",
    "print(f\"RMSE for ligthGBM: {rmse_lgb}\")"
   ]
  },
  {
   "cell_type": "markdown",
   "metadata": {},
   "source": [
    "## Train meta-features"
   ]
  },
  {
   "cell_type": "code",
   "execution_count": 21,
   "metadata": {},
   "outputs": [
    {
     "name": "stdout",
     "output_type": "stream",
     "text": [
      "27\n",
      "[LightGBM] [Warning] Auto-choosing row-wise multi-threading, the overhead of testing was 0.323076 seconds.\n",
      "You can set `force_row_wise=true` to remove the overhead.\n",
      "And if memory is not enough, you can set `force_col_wise=true`.\n",
      "28\n",
      "[LightGBM] [Warning] Auto-choosing row-wise multi-threading, the overhead of testing was 0.304410 seconds.\n",
      "You can set `force_row_wise=true` to remove the overhead.\n",
      "And if memory is not enough, you can set `force_col_wise=true`.\n",
      "29\n",
      "[LightGBM] [Warning] Auto-choosing row-wise multi-threading, the overhead of testing was 0.316756 seconds.\n",
      "You can set `force_row_wise=true` to remove the overhead.\n",
      "And if memory is not enough, you can set `force_col_wise=true`.\n",
      "30\n",
      "[LightGBM] [Warning] Auto-choosing row-wise multi-threading, the overhead of testing was 0.362626 seconds.\n",
      "You can set `force_row_wise=true` to remove the overhead.\n",
      "And if memory is not enough, you can set `force_col_wise=true`.\n",
      "31\n",
      "[LightGBM] [Warning] Auto-choosing row-wise multi-threading, the overhead of testing was 0.415835 seconds.\n",
      "You can set `force_row_wise=true` to remove the overhead.\n",
      "And if memory is not enough, you can set `force_col_wise=true`.\n",
      "32\n",
      "[LightGBM] [Warning] Auto-choosing row-wise multi-threading, the overhead of testing was 0.404656 seconds.\n",
      "You can set `force_row_wise=true` to remove the overhead.\n",
      "And if memory is not enough, you can set `force_col_wise=true`.\n"
     ]
    }
   ],
   "source": [
    "train_data_level2 = train_data[train_data.date_block_num.isin(dates_train)]\n",
    "Y_train_level2 = train_data_level2[target]\n",
    "X_train_level2 = np.zeros([Y_train_level2.shape[0], 2])\n",
    "\n",
    "for cur_date in dates_train:\n",
    "    print(cur_date)\n",
    "    \n",
    "    X_train_block = train_data[train_data.date_block_num < cur_date][features]\n",
    "    X_test_block = train_data[train_data.date_block_num == cur_date][features]\n",
    "    \n",
    "    Y_train_block = train_data[train_data.date_block_num < cur_date][target]\n",
    "    Y_test_block = train_data[train_data.date_block_num == cur_date][target]\n",
    "    \n",
    "    X_train_prepared = lr_pipeline.fit_transform(X_train_block)\n",
    "    X_test_prepared = lr_pipeline.transform(X_test_block)\n",
    "    \n",
    "    lr_reg.fit(X_train_prepared, Y_train_block)\n",
    "    Y_test_pred_lr = lr_reg.predict(X_test_prepared)\n",
    "    X_train_level2[train_data_level2.date_block_num==cur_date, 0] = Y_test_pred_lr\n",
    "    \n",
    "    X_train_prepared = lgb_pipeline.fit_transform(X_train_block)\n",
    "    X_test_prepared = lgb_pipeline.transform(X_test_block)\n",
    "    \n",
    "    train_ds= lgb.Dataset(X_train_prepared, label=Y_train_block)\n",
    "    lgb_reg = lgb.train(lgb_params, train_ds, 100)\n",
    "    Y_test_pred_lgb = lgb_reg.predict(X_test_prepared)\n",
    "    X_train_level2[train_data_level2.date_block_num==cur_date, 1] = Y_test_pred_lgb\n",
    "    "
   ]
  },
  {
   "cell_type": "markdown",
   "metadata": {},
   "source": [
    "# Ensembling"
   ]
  },
  {
   "cell_type": "code",
   "execution_count": 22,
   "metadata": {},
   "outputs": [
    {
     "name": "stdout",
     "output_type": "stream",
     "text": [
      "RMSE for stacking: 0.665128299234461\n"
     ]
    }
   ],
   "source": [
    "stack_reg = LinearRegression()\n",
    "stack_reg.fit(X_train_level2, Y_train_level2)\n",
    "\n",
    "Y_test_meta = train_data[train_data.date_block_num == last_block][target]\n",
    "Y_test_pred_meta = stack_reg.predict(np.c_[pred_lr, pred_lgb])\n",
    "rmse_stack =  np.sqrt(mean_squared_error(Y_test_meta, Y_test_pred_meta))\n",
    "print(f\"RMSE for stacking: {rmse_stack}\")"
   ]
  },
  {
   "cell_type": "markdown",
   "metadata": {},
   "source": [
    "## Retrain base linear regression model with all data"
   ]
  },
  {
   "cell_type": "code",
   "execution_count": 23,
   "metadata": {},
   "outputs": [],
   "source": [
    "lr_reg = LinearRegression()\n",
    "X_train_block = train_data[features]\n",
    "X_test_block = test_data[features]\n",
    "\n",
    "Y_train_block = train_data[target]\n",
    "Y_test_block = test_data[target]\n",
    "\n",
    "X_train_prepared = lr_pipeline.fit_transform(X_train_block)\n",
    "X_test_prepared = lr_pipeline.transform(X_test_block)\n",
    "\n",
    "lr_reg.fit(X_train_prepared, Y_train_block.values)\n",
    "Y_test_pred_lr = lr_reg.predict(X_test_prepared)"
   ]
  },
  {
   "cell_type": "markdown",
   "metadata": {},
   "source": [
    "## Retrain base lightGBM model with all data"
   ]
  },
  {
   "cell_type": "code",
   "execution_count": 24,
   "metadata": {},
   "outputs": [
    {
     "name": "stdout",
     "output_type": "stream",
     "text": [
      "[LightGBM] [Warning] Auto-choosing row-wise multi-threading, the overhead of testing was 0.393245 seconds.\n",
      "You can set `force_row_wise=true` to remove the overhead.\n",
      "And if memory is not enough, you can set `force_col_wise=true`.\n"
     ]
    }
   ],
   "source": [
    "X_train_prepared = lgb_pipeline.fit_transform(X_train_block)\n",
    "X_test_prepared = lgb_pipeline.transform(X_test_block)\n",
    "    \n",
    "train_ds= lgb.Dataset(X_train_prepared, label=Y_train_block)\n",
    "lgb_reg = lgb.train(lgb_params, train_ds, 100)\n",
    "Y_test_pred_lgb = lgb_reg.predict(X_test_prepared)"
   ]
  },
  {
   "cell_type": "markdown",
   "metadata": {},
   "source": [
    "## Retrain meta model with all data"
   ]
  },
  {
   "cell_type": "code",
   "execution_count": 25,
   "metadata": {},
   "outputs": [
    {
     "data": {
      "text/plain": [
       "LinearRegression(copy_X=True, fit_intercept=True, n_jobs=None, normalize=False)"
      ]
     },
     "execution_count": 25,
     "metadata": {},
     "output_type": "execute_result"
    }
   ],
   "source": [
    "X_train_level2_all = np.concatenate([X_train_level2, np.c_[pred_lr, pred_lgb]])\n",
    "Y_train_level2_all = np.concatenate([Y_train_level2, Y_test_meta])\n",
    "stack_reg.fit(X_train_level2_all, Y_train_level2_all)"
   ]
  },
  {
   "cell_type": "code",
   "execution_count": 28,
   "metadata": {},
   "outputs": [],
   "source": [
    "test_data[\"item_cnt_month\"] = stack_reg.predict(np.c_[Y_test_pred_lr, Y_test_pred_lgb])\n",
    "test_data[\"item_cnt_month\"] = test_data[\"item_cnt_month\"].map(clip_values)\n",
    "test_data[[\"ID\", \"item_cnt_month\"]].to_csv(\"submission_stack.csv\", index=False)"
   ]
  },
  {
   "cell_type": "code",
   "execution_count": 85,
   "metadata": {},
   "outputs": [
    {
     "data": {
      "text/plain": [
       "<matplotlib.collections.PathCollection at 0x7fa8fb0ce210>"
      ]
     },
     "execution_count": 85,
     "metadata": {},
     "output_type": "execute_result"
    },
    {
     "data": {
      "image/png": "[encoded data removed]",
      "text/plain": [
       "<Figure size 432x288 with 1 Axes>"
      ]
     },
     "metadata": {
      "needs_background": "light"
     },
     "output_type": "display_data"
    }
   ],
   "source": [
    "plt.scatter(Y_valid_pred_lr, Y_valid_pred_lgb)"
   ]
  },
  {
   "cell_type": "code",
   "execution_count": null,
   "metadata": {},
   "outputs": [],
   "source": []
  }
 ],
 "metadata": {
  "kernelspec": {
   "display_name": "Python 3",
   "language": "python",
   "name": "python3"
  },
  "language_info": {
   "codemirror_mode": {
    "name": "ipython",
    "version": 3
   },
   "file_extension": ".py",
   "mimetype": "text/x-python",
   "name": "python",
   "nbconvert_exporter": "python",
   "pygments_lexer": "ipython3",
   "version": "3.7.6"
  }
 },
 "nbformat": 4,
 "nbformat_minor": 4
}
