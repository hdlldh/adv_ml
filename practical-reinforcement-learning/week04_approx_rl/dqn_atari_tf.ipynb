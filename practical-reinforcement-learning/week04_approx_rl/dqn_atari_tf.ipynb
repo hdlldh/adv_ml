{
 "cells": [
  {
   "cell_type": "markdown",
   "metadata": {},
   "source": [
    "# Deep Q-Network implementation\n",
    "\n",
    "This notebook shamelessly demands you to implement a DQN - an approximate q-learning algorithm with experience replay and target networks - and see if it works any better this way."
   ]
  },
  {
   "cell_type": "code",
   "execution_count": 1,
   "metadata": {},
   "outputs": [
    {
     "name": "stdout",
     "output_type": "stream",
     "text": [
      "Starting virtual X frame buffer: Xvfb.\r\n"
     ]
    }
   ],
   "source": [
    "import sys, os\n",
    "if 'google.colab' in sys.modules:\n",
    "    %tensorflow_version 1.x\n",
    "    \n",
    "    if not os.path.exists('.setup_complete'):\n",
    "        !wget -q https://raw.githubusercontent.com/yandexdataschool/Practical_RL/master/setup_colab.sh -O- | bash\n",
    "\n",
    "        !wget -q https://raw.githubusercontent.com/yandexdataschool/Practical_RL/master/week04_approx_rl/framebuffer.py\n",
    "        !wget -q https://raw.githubusercontent.com/yandexdataschool/Practical_RL/master/week04_approx_rl/replay_buffer.py\n",
    "        !wget -q https://raw.githubusercontent.com/yandexdataschool/Practical_RL/master/week04_approx_rl/atari_wrappers.py\n",
    "        !wget -q https://raw.githubusercontent.com/yandexdataschool/Practical_RL/master/week04_approx_rl/utils.py\n",
    "\n",
    "        !touch .setup_complete\n",
    "\n",
    "# This code creates a virtual display to draw game images on.\n",
    "# It will have no effect if your machine has a monitor.\n",
    "if type(os.environ.get(\"DISPLAY\")) is not str or len(os.environ.get(\"DISPLAY\")) == 0:\n",
    "    !bash ../xvfb start\n",
    "    os.environ['DISPLAY'] = ':1'"
   ]
  },
  {
   "cell_type": "markdown",
   "metadata": {},
   "source": [
    "__Frameworks__ - we'll accept this homework in any deep learning framework. This particular notebook was designed for tensorflow, but you will find it easy to adapt it to almost any python-based deep learning framework."
   ]
  },
  {
   "cell_type": "code",
   "execution_count": 2,
   "metadata": {},
   "outputs": [],
   "source": [
    "import random\n",
    "import numpy as np\n",
    "import utils"
   ]
  },
  {
   "cell_type": "code",
   "execution_count": 3,
   "metadata": {},
   "outputs": [],
   "source": [
    "import gym\n",
    "import numpy as np\n",
    "import matplotlib.pyplot as plt\n",
    "%matplotlib inline"
   ]
  },
  {
   "cell_type": "markdown",
   "metadata": {},
   "source": [
    "### Let's play some old videogames\n",
    "![img](https://github.com/yandexdataschool/Practical_RL/raw/master/yet_another_week/_resource/nerd.png)\n",
    "\n",
    "This time we're gonna apply approximate q-learning to an Atari game called Breakout. It's not the hardest thing out there, but it's definitely way more complex than anything we tried before.\n"
   ]
  },
  {
   "cell_type": "code",
   "execution_count": 4,
   "metadata": {},
   "outputs": [],
   "source": [
    "ENV_NAME = \"BreakoutNoFrameskip-v4\""
   ]
  },
  {
   "cell_type": "markdown",
   "metadata": {},
   "source": [
    "## Preprocessing (3 pts)"
   ]
  },
  {
   "cell_type": "markdown",
   "metadata": {},
   "source": [
    "Let's see what observations look like."
   ]
  },
  {
   "cell_type": "code",
   "execution_count": 5,
   "metadata": {},
   "outputs": [
    {
     "data": {
      "image/png": "[encoded data removed]",
      "text/plain": [
       "<Figure size 1152x648 with 10 Axes>"
      ]
     },
     "metadata": {
      "needs_background": "light"
     },
     "output_type": "display_data"
    }
   ],
   "source": [
    "env = gym.make(ENV_NAME)\n",
    "env.reset()\n",
    "\n",
    "n_cols = 5\n",
    "n_rows = 2\n",
    "fig = plt.figure(figsize=(16, 9))\n",
    "\n",
    "for row in range(n_rows):\n",
    "    for col in range(n_cols):\n",
    "        ax = fig.add_subplot(n_rows, n_cols, row * n_cols + col + 1)\n",
    "        ax.imshow(env.render('rgb_array'))\n",
    "        env.step(env.action_space.sample())\n",
    "plt.show()"
   ]
  },
  {
   "cell_type": "markdown",
   "metadata": {},
   "source": [
    "### Processing game image \n",
    "\n",
    "Raw Atari images are large, 210x160x3 by default. However, we don't need that level of detail in order to learn them.\n",
    "\n",
    "We can thus save a lot of time by preprocessing game image, including\n",
    "* Resizing to a smaller shape, 64 x 64\n",
    "* Converting to grayscale\n",
    "* Cropping irrelevant image parts (top & bottom)\n",
    "\n",
    "Tip: You can implement your own grayscale converter and assign a huge weight to the red channel. This dirty trick is not necessary but it will speed up learning."
   ]
  },
  {
   "cell_type": "code",
   "execution_count": 10,
   "metadata": {},
   "outputs": [],
   "source": [
    "from gym.core import ObservationWrapper\n",
    "from gym.spaces import Box\n",
    "\n",
    "import cv2\n",
    "\n",
    "\n",
    "class PreprocessAtariObs(ObservationWrapper):\n",
    "    def __init__(self, env):\n",
    "        \"\"\"A gym wrapper that crops, scales image into the desired shapes and optionally grayscales it.\"\"\"\n",
    "        super().__init__(env)\n",
    "\n",
    "        self.img_size = (64, 64, 1)\n",
    "        self.observation_space = Box(0.0, 1.0, self.img_size)\n",
    "\n",
    "    def _to_gray_scale(self, rgb, channel_weights=[0.8, 0.1, 0.1]):\n",
    "        return np.dot(rgb, channel_weights)\n",
    "\n",
    "    def observation(self, img):\n",
    "        \"\"\"what happens to each observation\"\"\"\n",
    "\n",
    "        # Here's what you need to do:\n",
    "        #  * Crop image, remove irrelevant parts.\n",
    "        #  * Resize image to self.img_size. Use cv2.resize or any other library you want,\n",
    "        #    e.g. PIL or Keras. Do not use skimage.transform.resize because it is roughly\n",
    "        #    6x slower than cv2.resize.\n",
    "        #  * Cast image to grayscale.\n",
    "        #  * Convert image pixels to (0, 1) range, float32 type.\n",
    "\n",
    "        img = img[35:-15, :, :]\n",
    "        img = cv2.resize(img, (64,64))\n",
    "        img = self._to_gray_scale(img)\n",
    "        img = img[:, :, np.newaxis]\n",
    "        img = img.astype('float32') /255\n",
    "        return img"
   ]
  },
  {
   "cell_type": "code",
   "execution_count": 11,
   "metadata": {},
   "outputs": [
    {
     "name": "stdout",
     "output_type": "stream",
     "text": [
      "Formal tests seem fine. Here's an example of what you'll get.\n"
     ]
    },
    {
     "data": {
      "image/png": "[encoded data removed]",
      "text/plain": [
       "<Figure size 1152x648 with 10 Axes>"
      ]
     },
     "metadata": {
      "needs_background": "light"
     },
     "output_type": "display_data"
    }
   ],
   "source": [
    "import gym\n",
    "# spawn game instance for tests\n",
    "env = gym.make(ENV_NAME)  # create raw env\n",
    "env = PreprocessAtariObs(env)\n",
    "\n",
    "observation_shape = env.observation_space.shape\n",
    "n_actions = env.action_space.n\n",
    "\n",
    "obs = env.reset()\n",
    "\n",
    "\n",
    "# test observation\n",
    "assert obs.ndim == 3, \"observation must be [height, width, channels] even if there's just one channel\"\n",
    "assert obs.shape == observation_shape, (obs.shape, observation_shape)\n",
    "assert obs.dtype == np.float32\n",
    "assert len(np.unique(obs)) > 2, \"your image must not be binary\"\n",
    "assert 0 <= np.min(obs) and np.max(obs) <= 1, \"convert image pixels to (0,1) range\"\n",
    "assert np.max(obs) >= 0.5, \"It would be easier to see a brighter observation\"\n",
    "assert np.mean(obs) >= 0.1, \"It would be easier to see a brighter observation\"\n",
    "\n",
    "assert np.max(obs) >= 0.5, \"It would be easier to see a brighter observation\"\n",
    "assert np.mean(obs) >= 0.1, \"It would be easier to see a brighter observation\"\n",
    "\n",
    "print(\"Formal tests seem fine. Here's an example of what you'll get.\")\n",
    "\n",
    "\n",
    "n_cols = 5\n",
    "n_rows = 2\n",
    "fig = plt.figure(figsize=(16, 9))\n",
    "obs = env.reset()\n",
    "for row in range(n_rows):\n",
    "    for col in range(n_cols):\n",
    "        ax = fig.add_subplot(n_rows, n_cols, row * n_cols + col + 1)\n",
    "        ax.imshow(obs[:, :, 0], interpolation='none', cmap='gray')\n",
    "        obs, _, _, _ = env.step(env.action_space.sample())\n",
    "plt.show()"
   ]
  },
  {
   "cell_type": "markdown",
   "metadata": {},
   "source": [
    "### Wrapping."
   ]
  },
  {
   "cell_type": "markdown",
   "metadata": {},
   "source": [
    "**About the game:** You have 5 lives and get points for breaking the wall. Higher bricks cost more than the lower ones. There are 4 actions: start game (should be called at the beginning and after each life is lost), move left, move right and do nothing. There are some common wrappers used for Atari environments."
   ]
  },
  {
   "cell_type": "code",
   "execution_count": 12,
   "metadata": {},
   "outputs": [],
   "source": [
    "import atari_wrappers\n",
    "\n",
    "def PrimaryAtariWrap(env, clip_rewards=True):\n",
    "    assert 'NoFrameskip' in env.spec.id\n",
    "\n",
    "    # This wrapper holds the same action for <skip> frames and outputs\n",
    "    # the maximal pixel value of 2 last frames (to handle blinking\n",
    "    # in some envs)\n",
    "    env = atari_wrappers.MaxAndSkipEnv(env, skip=4)\n",
    "\n",
    "    # This wrapper sends done=True when each life is lost\n",
    "    # (not all the 5 lives that are givern by the game rules).\n",
    "    # It should make easier for the agent to understand that losing is bad.\n",
    "    env = atari_wrappers.EpisodicLifeEnv(env)\n",
    "\n",
    "    # This wrapper laucnhes the ball when an episode starts.\n",
    "    # Without it the agent has to learn this action, too.\n",
    "    # Actually it can but learning would take longer.\n",
    "    env = atari_wrappers.FireResetEnv(env)\n",
    "\n",
    "    # This wrapper transforms rewards to {-1, 0, 1} according to their sign\n",
    "    if clip_rewards:\n",
    "        env = atari_wrappers.ClipRewardEnv(env)\n",
    "\n",
    "    # This wrapper is yours :)\n",
    "    env = PreprocessAtariObs(env)\n",
    "    return env"
   ]
  },
  {
   "cell_type": "markdown",
   "metadata": {},
   "source": [
    "### Frame buffer\n",
    "\n",
    "Our agent can only process one observation at a time, so we gotta make sure it contains enough information to fing optimal actions. For instance, agent has to react to moving objects so he must be able to measure object's velocity.\n",
    "\n",
    "To do so, we introduce a buffer that stores 4 last images. This time everything is pre-implemented for you."
   ]
  },
  {
   "cell_type": "code",
   "execution_count": 13,
   "metadata": {},
   "outputs": [],
   "source": [
    "from framebuffer import FrameBuffer\n",
    "\n",
    "\n",
    "def make_env(clip_rewards=True, seed=None):\n",
    "    env = gym.make(ENV_NAME)  # create raw env\n",
    "    if seed is not None:\n",
    "        env.seed(seed)\n",
    "    env = PrimaryAtariWrap(env, clip_rewards)\n",
    "    env = FrameBuffer(env, n_frames=4, dim_order='tensorflow')\n",
    "    return env\n",
    "\n",
    "\n",
    "env = make_env()\n",
    "env.reset()\n",
    "n_actions = env.action_space.n\n",
    "state_shape = env.observation_space.shape"
   ]
  },
  {
   "cell_type": "code",
   "execution_count": 14,
   "metadata": {},
   "outputs": [
    {
     "data": {
      "image/png": "[encoded data removed]",
      "text/plain": [
       "<Figure size 432x288 with 1 Axes>"
      ]
     },
     "metadata": {
      "needs_background": "light"
     },
     "output_type": "display_data"
    },
    {
     "data": {
      "image/png": "[encoded data removed]",
      "text/plain": [
       "<Figure size 864x720 with 1 Axes>"
      ]
     },
     "metadata": {
      "needs_background": "light"
     },
     "output_type": "display_data"
    }
   ],
   "source": [
    "for _ in range(50):\n",
    "    obs, _, _, _ = env.step(env.action_space.sample())\n",
    "\n",
    "\n",
    "plt.figure()\n",
    "plt.title(\"Game image\")\n",
    "plt.imshow(env.render(\"rgb_array\"))\n",
    "plt.show()\n",
    "\n",
    "plt.figure(figsize=[12,10])\n",
    "plt.title(\"Agent observation (4 frames left to right)\")\n",
    "plt.imshow(obs.transpose([0, 2, 1]).reshape([state_shape[0], -1]))\n",
    "plt.show()"
   ]
  },
  {
   "cell_type": "markdown",
   "metadata": {},
   "source": [
    "## DQN as it is (4 pts)"
   ]
  },
  {
   "cell_type": "markdown",
   "metadata": {},
   "source": [
    "### Building a network\n",
    "\n",
    "We now need to build a neural network that can map images to state q-values. This network will be called on every agent's step so it better not be resnet-152 unless you have an array of GPUs. Instead, you can use strided convolutions with a small number of features to save time and memory.\n",
    "\n",
    "You can build any architecture you want, but for reference, here's something that will more or less work:"
   ]
  },
  {
   "cell_type": "markdown",
   "metadata": {},
   "source": [
    "![img](https://github.com/yandexdataschool/Practical_RL/raw/master/yet_another_week/_resource/dqn_arch.png)"
   ]
  },
  {
   "cell_type": "markdown",
   "metadata": {},
   "source": [
    "**Dueling network: (+2 pts)**\n",
    "$$Q_{\\theta}(s, a) = V_{\\eta}(f_{\\xi}(s)) + A_{\\psi}(f_{\\xi}(s), a) - \\frac{\\sum_{a'}A_{\\psi}(f_{\\xi}(s), a')}{N_{actions}},$$\n",
    "where $\\xi$, $\\eta$, and $\\psi$ are, respectively, the parameters of the\n",
    "shared encoder $f_ξ$ , of the value stream $V_\\eta$ , and of the advan\n",
    "tage stream $A_\\psi$; and $\\theta = \\{\\xi, \\eta, \\psi\\}$ is their concatenation.\n",
    "\n",
    "For the architecture on the image $V$ and $A$ heads can follow the dense layer instead of $Q$. Please don't worry that the model becomes a little bigger."
   ]
  },
  {
   "cell_type": "code",
   "execution_count": 15,
   "metadata": {},
   "outputs": [],
   "source": [
    "import tensorflow as tf\n",
    "tf.reset_default_graph()\n",
    "sess = tf.InteractiveSession()"
   ]
  },
  {
   "cell_type": "code",
   "execution_count": 20,
   "metadata": {},
   "outputs": [],
   "source": [
    "from tensorflow.keras.layers import Conv2D, Dense, Flatten\n",
    "from tensorflow.keras import models\n",
    "\n",
    "\n",
    "class DQNAgent:\n",
    "    def __init__(self, name, state_shape, n_actions, epsilon=0, reuse=False):\n",
    "        \"\"\"A simple DQN agent\"\"\"\n",
    "        with tf.variable_scope(name, reuse=reuse):\n",
    "            #< Define your network body here. Please make sure you don't use any layers created elsewhere >\n",
    "            self.network = models.Sequential()\n",
    "            self.network.add(Conv2D(16, (3, 3), strides=[2,2,], activation='relu', input_shape=state_shape))\n",
    "            self.network.add(Conv2D(32, (3, 3), strides=[2,2,], activation='relu'))\n",
    "            self.network.add(Conv2D(64, (3, 3), strides=[2,2,], activation='relu'))\n",
    "            self.network.add(Flatten())\n",
    "            self.network.add(Dense(256, activation='relu'))\n",
    "            self.network.add(Dense(n_actions, activation='linear'))\n",
    "\n",
    "            # prepare a graph for agent step\n",
    "            self.state_t = tf.placeholder('float32', [None, ] + list(state_shape))\n",
    "            self.qvalues_t = self.get_symbolic_qvalues(self.state_t)\n",
    "\n",
    "        self.weights = tf.get_collection(\n",
    "            tf.GraphKeys.TRAINABLE_VARIABLES, scope=name)\n",
    "        self.epsilon = epsilon\n",
    "\n",
    "    def get_symbolic_qvalues(self, state_t):\n",
    "        \"\"\"takes agent's observation, returns qvalues. Both are tf Tensors\"\"\"\n",
    "        #<YOUR CODE: apply your network layers here>\n",
    "        qvalues = self.network(state_t)\n",
    "\n",
    "        assert tf.is_numeric_tensor(qvalues) and qvalues.shape.ndims == 2, \\\n",
    "            \"please return 2d tf tensor of qvalues [you got %s]\" % repr(qvalues)\n",
    "        assert int(qvalues.shape[1]) == n_actions\n",
    "\n",
    "        return qvalues\n",
    "\n",
    "    def get_qvalues(self, state_t):\n",
    "        \"\"\"Same as symbolic step except it operates on numpy arrays\"\"\"\n",
    "        sess = tf.get_default_session()\n",
    "        return sess.run(self.qvalues_t, {self.state_t: state_t})\n",
    "\n",
    "    def sample_actions(self, qvalues):\n",
    "        \"\"\"pick actions given qvalues. Uses epsilon-greedy exploration strategy. \"\"\"\n",
    "        epsilon = self.epsilon\n",
    "        batch_size, n_actions = qvalues.shape\n",
    "        random_actions = np.random.choice(n_actions, size=batch_size)\n",
    "        best_actions = qvalues.argmax(axis=-1)\n",
    "        should_explore = np.random.choice([0, 1], batch_size, p=[1-epsilon, epsilon])\n",
    "        return np.where(should_explore, random_actions, best_actions)"
   ]
  },
  {
   "cell_type": "code",
   "execution_count": 21,
   "metadata": {},
   "outputs": [
    {
     "name": "stdout",
     "output_type": "stream",
     "text": [
      "WARNING:tensorflow:From /opt/conda/envs/deeplearning/lib/python3.7/site-packages/tensorflow/python/ops/resource_variable_ops.py:435: colocate_with (from tensorflow.python.framework.ops) is deprecated and will be removed in a future version.\n",
      "Instructions for updating:\n",
      "Colocations handled automatically by placer.\n"
     ]
    }
   ],
   "source": [
    "agent = DQNAgent(\"dqn_agent\", state_shape, n_actions, epsilon=1)\n",
    "sess.run(tf.global_variables_initializer())"
   ]
  },
  {
   "cell_type": "markdown",
   "metadata": {},
   "source": [
    "Now let's try out our agent to see if it raises any errors."
   ]
  },
  {
   "cell_type": "code",
   "execution_count": 22,
   "metadata": {},
   "outputs": [],
   "source": [
    "def evaluate(env, agent, n_games=1, greedy=False, t_max=10000):\n",
    "    \"\"\" Plays n_games full games. If greedy, picks actions as argmax(qvalues). Returns mean reward. \"\"\"\n",
    "    rewards = []\n",
    "    for _ in range(n_games):\n",
    "        s = env.reset()\n",
    "        reward = 0\n",
    "        for _ in range(t_max):\n",
    "            qvalues = agent.get_qvalues([s])\n",
    "            action = qvalues.argmax(axis=-1)[0] if greedy else agent.sample_actions(qvalues)[0]\n",
    "            s, r, done, _ = env.step(action)\n",
    "            reward += r\n",
    "            if done:\n",
    "                break\n",
    "\n",
    "        rewards.append(reward)\n",
    "    return np.mean(rewards)"
   ]
  },
  {
   "cell_type": "code",
   "execution_count": 23,
   "metadata": {},
   "outputs": [
    {
     "data": {
      "text/plain": [
       "0.0"
      ]
     },
     "execution_count": 23,
     "metadata": {},
     "output_type": "execute_result"
    }
   ],
   "source": [
    "evaluate(env, agent, n_games=1)"
   ]
  },
  {
   "cell_type": "markdown",
   "metadata": {},
   "source": [
    "### Experience replay\n",
    "For this assignment, we provide you with experience replay buffer. If you implemented experience replay buffer in last week's assignment, you can copy-paste it here __to get 2 bonus points__.\n",
    "\n",
    "![img](https://github.com/yandexdataschool/Practical_RL/raw/master/yet_another_week/_resource/exp_replay.png)"
   ]
  },
  {
   "cell_type": "markdown",
   "metadata": {},
   "source": [
    "#### The interface is fairly simple:\n",
    "* `exp_replay.add(obs, act, rw, next_obs, done)` - saves (s,a,r,s',done) tuple into the buffer\n",
    "* `exp_replay.sample(batch_size)` - returns observations, actions, rewards, next_observations and is_done for `batch_size` random samples.\n",
    "* `len(exp_replay)` - returns number of elements stored in replay buffer."
   ]
  },
  {
   "cell_type": "code",
   "execution_count": 24,
   "metadata": {},
   "outputs": [],
   "source": [
    "from replay_buffer import ReplayBuffer\n",
    "exp_replay = ReplayBuffer(10)\n",
    "\n",
    "for _ in range(30):\n",
    "    exp_replay.add(env.reset(), env.action_space.sample(), 1.0, env.reset(), done=False)\n",
    "\n",
    "obs_batch, act_batch, reward_batch, next_obs_batch, is_done_batch = exp_replay.sample(5)\n",
    "\n",
    "assert len(exp_replay) == 10, \"experience replay size should be 10 because that's what maximum capacity is\""
   ]
  },
  {
   "cell_type": "code",
   "execution_count": 25,
   "metadata": {},
   "outputs": [],
   "source": [
    "def play_and_record(initial_state, agent, env, exp_replay, n_steps=1):\n",
    "    \"\"\"\n",
    "    Play the game for exactly n steps, record every (s,a,r,s', done) to replay buffer. \n",
    "    Whenever game ends, add record with done=True and reset the game.\n",
    "    It is guaranteed that env has done=False when passed to this function.\n",
    "\n",
    "    PLEASE DO NOT RESET ENV UNLESS IT IS \"DONE\"\n",
    "\n",
    "    :returns: return sum of rewards over time and the state in which the env stays\n",
    "    \"\"\"\n",
    "    # initial state\n",
    "    s = initial_state\n",
    "    sum_rewards = 0\n",
    "\n",
    "    # Play the game for n_steps as per instructions above\n",
    "    for t in range(n_steps):\n",
    "        qs = agent.get_qvalues([s])\n",
    "        a = agent.sample_actions(qs)[0]\n",
    "        \n",
    "        next_s, r, done, _ = env.step(a)\n",
    "        \n",
    "        exp_replay.add(s, a, r, next_s, done)\n",
    "        \n",
    "        \n",
    "        sum_rewards +=r\n",
    "        \n",
    "        if done: s=env.reset()\n",
    "        else: s=next_s\n",
    "\n",
    "    return sum_rewards, s"
   ]
  },
  {
   "cell_type": "code",
   "execution_count": 26,
   "metadata": {},
   "outputs": [
    {
     "name": "stdout",
     "output_type": "stream",
     "text": [
      "Well done!\n"
     ]
    }
   ],
   "source": [
    "# testing your code.\n",
    "exp_replay = ReplayBuffer(2000)\n",
    "\n",
    "state = env.reset()\n",
    "play_and_record(state, agent, env, exp_replay, n_steps=1000)\n",
    "\n",
    "# if you're using your own experience replay buffer, some of those tests may need correction.\n",
    "# just make sure you know what your code does\n",
    "assert len(exp_replay) == 1000, \"play_and_record should have added exactly 1000 steps, \"\\\n",
    "                                 \"but instead added %i\" % len(exp_replay)\n",
    "is_dones = list(zip(*exp_replay._storage))[-1]\n",
    "\n",
    "assert 0 < np.mean(is_dones) < 0.1, \"Please make sure you restart the game whenever it is 'done' and record the is_done correctly into the buffer.\"\\\n",
    "                                    \"Got %f is_done rate over %i steps. [If you think it's your tough luck, just re-run the test]\" % (\n",
    "                                        np.mean(is_dones), len(exp_replay))\n",
    "\n",
    "for _ in range(100):\n",
    "    obs_batch, act_batch, reward_batch, next_obs_batch, is_done_batch = exp_replay.sample(\n",
    "        10)\n",
    "    assert obs_batch.shape == next_obs_batch.shape == (10,) + state_shape\n",
    "    assert act_batch.shape == (10,), \\\n",
    "        \"actions batch should have shape (10,) but is instead %s\" % str(act_batch.shape)\n",
    "    assert reward_batch.shape == (10,), \\\n",
    "        \"rewards batch should have shape (10,) but is instead %s\" % str(reward_batch.shape)\n",
    "    assert is_done_batch.shape == (10,), \\\n",
    "        \"is_done batch should have shape (10,) but is instead %s\" % str(is_done_batch.shape)\n",
    "    assert [int(i) in (0, 1) for i in is_dones], \"is_done should be strictly True or False\"\n",
    "    assert [0 <= a < n_actions for a in act_batch], \"actions should be within [0, n_actions)\"\n",
    "\n",
    "print(\"Well done!\")"
   ]
  },
  {
   "cell_type": "markdown",
   "metadata": {},
   "source": [
    "### Target networks\n",
    "\n",
    "We also employ the so called \"target network\" - a copy of neural network weights to be used for reference Q-values:\n",
    "\n",
    "The network itself is an exact copy of agent network, but it's parameters are not trained. Instead, they are moved here from agent's actual network every so often.\n",
    "\n",
    "$$ Q_{reference}(s,a) = r + \\gamma \\cdot \\max _{a'} Q_{target}(s',a') $$\n",
    "\n",
    "![img](https://github.com/yandexdataschool/Practical_RL/raw/master/yet_another_week/_resource/target_net.png)\n",
    "\n"
   ]
  },
  {
   "cell_type": "code",
   "execution_count": 27,
   "metadata": {},
   "outputs": [],
   "source": [
    "target_network = DQNAgent(\"target_network\", state_shape, n_actions)"
   ]
  },
  {
   "cell_type": "code",
   "execution_count": 28,
   "metadata": {},
   "outputs": [],
   "source": [
    "def load_weigths_into_target_network(agent, target_network):\n",
    "    \"\"\" assign target_network.weights variables to their respective agent.weights values. \"\"\"\n",
    "    assigns = []\n",
    "    for w_agent, w_target in zip(agent.weights, target_network.weights):\n",
    "        assigns.append(tf.assign(w_target, w_agent, validate_shape=True))\n",
    "    # tf.get_default_session().run(assigns)\n",
    "    return assigns"
   ]
  },
  {
   "cell_type": "code",
   "execution_count": 29,
   "metadata": {},
   "outputs": [
    {
     "name": "stdout",
     "output_type": "stream",
     "text": [
      "It works!\n"
     ]
    }
   ],
   "source": [
    "# create the tf copy graph only once.\n",
    "copy_step = load_weigths_into_target_network(agent, target_network)\n",
    "sess.run(copy_step)\n",
    "# check that it works\n",
    "sess.run([tf.assert_equal(w, w_target) for w, w_target in zip(agent.weights, target_network.weights)])\n",
    "print(\"It works!\")"
   ]
  },
  {
   "cell_type": "markdown",
   "metadata": {},
   "source": [
    "### Learning with... Q-learning\n",
    "Here we write a function similar to `agent.update` from tabular q-learning."
   ]
  },
  {
   "cell_type": "code",
   "execution_count": 30,
   "metadata": {},
   "outputs": [],
   "source": [
    "# placeholders that will be fed with exp_replay.sample(batch_size)\n",
    "obs_ph = tf.placeholder(tf.float32, shape=(None,) + state_shape)\n",
    "actions_ph = tf.placeholder(tf.int32, shape=[None])\n",
    "rewards_ph = tf.placeholder(tf.float32, shape=[None])\n",
    "next_obs_ph = tf.placeholder(tf.float32, shape=(None,) + state_shape)\n",
    "is_done_ph = tf.placeholder(tf.float32, shape=[None])\n",
    "\n",
    "is_not_done = 1 - is_done_ph\n",
    "gamma = 0.99"
   ]
  },
  {
   "cell_type": "markdown",
   "metadata": {},
   "source": [
    "Take q-values for actions agent just took"
   ]
  },
  {
   "cell_type": "code",
   "execution_count": 31,
   "metadata": {},
   "outputs": [],
   "source": [
    "current_qvalues = agent.get_symbolic_qvalues(obs_ph)\n",
    "current_action_qvalues = tf.reduce_sum(tf.one_hot(actions_ph, n_actions) * current_qvalues, axis=1)"
   ]
  },
  {
   "cell_type": "markdown",
   "metadata": {},
   "source": [
    "Compute Q-learning TD error:\n",
    "\n",
    "$$ L = { 1 \\over N} \\sum_i [ Q_{\\theta}(s,a) - Q_{reference}(s,a) ] ^2 $$\n",
    "\n",
    "With Q-reference defined as\n",
    "\n",
    "$$ Q_{reference}(s,a) = r(s,a) + \\gamma \\cdot max_{a'} Q_{target}(s', a') $$\n",
    "\n",
    "Where\n",
    "* $Q_{target}(s',a')$ denotes q-value of next state and next action predicted by __target_network__\n",
    "* $s, a, r, s'$ are current state, action, reward and next state respectively\n",
    "* $\\gamma$ is a discount factor defined two cells above.\n",
    "\n",
    "\n",
    "__Note 1:__ there's an example input below. Feel free to experiment with it before you write the function.\n",
    "\n",
    "__Note 2:__ compute_td_loss is a source of 99% of bugs in this homework. If reward doesn't improve, it often helps to go through it line by line [with a rubber duck](https://rubberduckdebugging.com/).\n",
    "\n",
    "**Double DQN (+2 pts)**\n",
    "\n",
    "$$ Q_{reference}(s,a) = r(s, a) + \\gamma \\cdot\n",
    "Q_{target}(s',argmax_{a'}Q_\\theta(s', a')) $$"
   ]
  },
  {
   "cell_type": "code",
   "execution_count": 32,
   "metadata": {},
   "outputs": [
    {
     "name": "stdout",
     "output_type": "stream",
     "text": [
      "WARNING:tensorflow:From /opt/conda/envs/deeplearning/lib/python3.7/site-packages/tensorflow/python/ops/math_ops.py:3066: to_int32 (from tensorflow.python.ops.math_ops) is deprecated and will be removed in a future version.\n",
      "Instructions for updating:\n",
      "Use tf.cast instead.\n"
     ]
    }
   ],
   "source": [
    "next_qvalues_target = target_network.get_symbolic_qvalues(next_obs_ph)\n",
    "next_state_values_target = is_not_done * tf.reduce_max(next_qvalues_target, axis=1)\n",
    "reference_qvalues = rewards_ph + gamma * next_state_values_target\n",
    "\n",
    "# Define loss function for sgd.\n",
    "td_loss = (current_action_qvalues - reference_qvalues) ** 2\n",
    "td_loss = tf.reduce_mean(td_loss)\n",
    "\n",
    "train_step = tf.train.AdamOptimizer(1e-3).minimize(td_loss, var_list=agent.weights)"
   ]
  },
  {
   "cell_type": "code",
   "execution_count": 33,
   "metadata": {},
   "outputs": [],
   "source": [
    "sess.run(tf.global_variables_initializer())"
   ]
  },
  {
   "cell_type": "code",
   "execution_count": 34,
   "metadata": {},
   "outputs": [
    {
     "name": "stdout",
     "output_type": "stream",
     "text": [
      "WARNING:tensorflow:From /opt/conda/envs/deeplearning/lib/python3.7/site-packages/tensorflow/python/ops/math_grad.py:102: div (from tensorflow.python.ops.math_ops) is deprecated and will be removed in a future version.\n",
      "Instructions for updating:\n",
      "Deprecated in favor of operator or tf.math.divide.\n",
      "Splendid!\n"
     ]
    }
   ],
   "source": [
    "for chk_grad in tf.gradients(reference_qvalues, agent.weights):\n",
    "    error_msg = \"Reference q-values should have no gradient w.r.t. agent weights. Make sure you used target_network qvalues! \"\n",
    "    error_msg += \"If you know what you're doing, ignore this assert.\"\n",
    "    assert chk_grad is None or np.allclose(sess.run(chk_grad), sess.run(chk_grad * 0)), error_msg\n",
    "\n",
    "assert tf.gradients(reference_qvalues, is_not_done)[0] is not None, \"make sure you used is_not_done\"\n",
    "assert tf.gradients(reference_qvalues, rewards_ph)[0] is not None, \"make sure you used rewards\"\n",
    "assert tf.gradients(reference_qvalues, next_obs_ph)[0] is not None, \"make sure you used next states\"\n",
    "assert tf.gradients(reference_qvalues, obs_ph)[0] is None, \"reference qvalues shouldn't depend on current observation!\"  # ignore if you're certain it's ok\n",
    "print(\"Splendid!\")"
   ]
  },
  {
   "cell_type": "markdown",
   "metadata": {},
   "source": [
    "## Main loop (3 pts)\n",
    "\n",
    "**If deadline is tonight and it has not converged:** It is ok. Send the notebook today and when it converges send it again.\n",
    "If the code is exactly the same points will not be discounted.\n",
    "\n",
    "It's time to put everything together and see if it learns anything."
   ]
  },
  {
   "cell_type": "code",
   "execution_count": 35,
   "metadata": {},
   "outputs": [],
   "source": [
    "from tqdm import trange\n",
    "import pandas as pd\n",
    "from IPython.display import clear_output\n",
    "import matplotlib.pyplot as plt\n",
    "%matplotlib inline"
   ]
  },
  {
   "cell_type": "code",
   "execution_count": 36,
   "metadata": {},
   "outputs": [
    {
     "data": {
      "text/plain": [
       "[array([[[[-0.16502273,  0.12024298,  0.11253458, -0.04730104,\n",
       "            0.13156724,  0.07612482,  0.00319925, -0.06260805,\n",
       "            0.09238711, -0.1160628 ,  0.0791108 , -0.04101001,\n",
       "            0.02874386, -0.16218337, -0.01701003,  0.03852676],\n",
       "          [-0.06078958, -0.10465983, -0.13317147,  0.06786484,\n",
       "           -0.12329015,  0.08709362,  0.02678353,  0.12871534,\n",
       "            0.03979254, -0.16080986,  0.06742728,  0.1345644 ,\n",
       "           -0.09279724,  0.13911307,  0.09860739,  0.09843728],\n",
       "          [ 0.059892  ,  0.13492468, -0.16776437,  0.133207  ,\n",
       "           -0.09628671, -0.03602049, -0.12188102,  0.06871057,\n",
       "            0.04324996,  0.04978347, -0.14003909, -0.0274504 ,\n",
       "            0.14108384, -0.02898537,  0.06558008, -0.0561845 ],\n",
       "          [-0.06860074, -0.17735396, -0.03137976,  0.16485664,\n",
       "            0.02223857, -0.0659994 ,  0.00946666,  0.05933353,\n",
       "           -0.01849699,  0.07578701,  0.11388394,  0.09854296,\n",
       "           -0.09734425,  0.10568461, -0.08239236, -0.01984408]],\n",
       " \n",
       "         [[-0.15285306,  0.1401506 , -0.11685394,  0.05408923,\n",
       "           -0.17875886, -0.08087476, -0.17509615, -0.10018422,\n",
       "            0.10638881, -0.00454056,  0.044503  , -0.16514418,\n",
       "            0.0019552 ,  0.12601572,  0.16583112, -0.11443289],\n",
       "          [-0.05199388,  0.11284757,  0.14272049,  0.13545948,\n",
       "           -0.12778144,  0.09726202,  0.04287671,  0.01242089,\n",
       "           -0.10949809, -0.16511828,  0.00791667, -0.15321395,\n",
       "           -0.07194407,  0.02877223, -0.17592306,  0.11669046],\n",
       "          [ 0.07856899,  0.15721074,  0.13357833,  0.11621249,\n",
       "           -0.01125506,  0.07675761, -0.01488459,  0.15485355,\n",
       "            0.02651909,  0.00411972,  0.08657205, -0.12976654,\n",
       "           -0.11834811,  0.07581243, -0.10394309, -0.1476807 ],\n",
       "          [ 0.01558124,  0.06261301, -0.02100125, -0.06815639,\n",
       "            0.07518721, -0.10622253, -0.15648128,  0.0317885 ,\n",
       "           -0.00830796, -0.00120223,  0.06798562,  0.09834364,\n",
       "            0.15686661,  0.12973332, -0.09633894,  0.15120143]],\n",
       " \n",
       "         [[ 0.00306249,  0.13104498, -0.15673907, -0.03356022,\n",
       "           -0.01873401,  0.14904803, -0.06200343,  0.15052551,\n",
       "            0.08330399, -0.01962918, -0.08466514,  0.13647053,\n",
       "           -0.00488701,  0.03608277,  0.18008345,  0.03732462],\n",
       "          [ 0.13599211, -0.18249182, -0.16661394,  0.04329115,\n",
       "           -0.07335825,  0.01684296, -0.16463216, -0.0151715 ,\n",
       "            0.10644183, -0.15944584,  0.14673185, -0.13474897,\n",
       "           -0.04592025, -0.053066  , -0.04467224,  0.12996364],\n",
       "          [ 0.07219601,  0.00930887,  0.15246046,  0.05498971,\n",
       "           -0.17575057, -0.11605483, -0.10071214,  0.07011476,\n",
       "            0.06718604, -0.14421785,  0.00993425,  0.07342729,\n",
       "            0.17723209, -0.14371099,  0.09073758, -0.07802478],\n",
       "          [-0.11943574,  0.11185658,  0.03231929,  0.11598885,\n",
       "           -0.06607762,  0.18179703, -0.01765373, -0.00518863,\n",
       "            0.11199927, -0.09025898, -0.03248906, -0.08859599,\n",
       "           -0.04276013, -0.11159937, -0.0496124 , -0.1614658 ]]],\n",
       " \n",
       " \n",
       "        [[[ 0.1510526 , -0.12330255,  0.12557438, -0.1170076 ,\n",
       "           -0.14969453,  0.03671238, -0.15217221,  0.17502293,\n",
       "            0.05239908,  0.0125756 , -0.01631008,  0.1583499 ,\n",
       "            0.1511431 ,  0.14450338,  0.14690581,  0.08811235],\n",
       "          [-0.02287954, -0.16362306, -0.09547106,  0.10454026,\n",
       "           -0.15685286, -0.14084834, -0.18110111, -0.13583118,\n",
       "           -0.04133525, -0.03735875,  0.17990398,  0.09342083,\n",
       "            0.08117408, -0.01346977,  0.01936395, -0.04566313],\n",
       "          [ 0.05798452, -0.03014672,  0.04265366, -0.07350673,\n",
       "           -0.1653933 ,  0.13561752,  0.10753867,  0.02502704,\n",
       "            0.05169283, -0.09418138,  0.17928538, -0.06921323,\n",
       "            0.10668245,  0.18029526, -0.03956519,  0.07710418],\n",
       "          [-0.03775503,  0.0318204 , -0.16671893,  0.11984608,\n",
       "            0.00890152,  0.01156716, -0.04563275,  0.00302818,\n",
       "           -0.13141263, -0.11196736, -0.15029459, -0.15364645,\n",
       "            0.02720241, -0.14975174,  0.14903972, -0.02129765]],\n",
       " \n",
       "         [[ 0.14494196, -0.04510283, -0.11199544,  0.13411278,\n",
       "           -0.09163467, -0.030645  ,  0.03174993,  0.0865584 ,\n",
       "           -0.147922  ,  0.05391765, -0.13578072, -0.15940592,\n",
       "            0.16894963, -0.03026655,  0.08450752, -0.06824014],\n",
       "          [ 0.17465994,  0.08003777,  0.0912638 , -0.03107798,\n",
       "            0.03049216, -0.16887788, -0.09946581,  0.12968957,\n",
       "            0.16446805,  0.04704836, -0.11082929,  0.12746817,\n",
       "            0.13320434, -0.11056007, -0.15831773, -0.17086446],\n",
       "          [ 0.05064556,  0.03737821,  0.1200006 , -0.11036201,\n",
       "            0.1287122 , -0.18190858,  0.1487796 , -0.07161403,\n",
       "           -0.12963895, -0.03048393,  0.17254087, -0.04808518,\n",
       "           -0.0771182 ,  0.00483839, -0.17088741,  0.07924476],\n",
       "          [ 0.16799355, -0.09262217, -0.07891108,  0.05049591,\n",
       "           -0.04673813,  0.1615687 , -0.130803  ,  0.12215534,\n",
       "           -0.1616511 ,  0.02570714, -0.06269693, -0.01945436,\n",
       "            0.14275235, -0.07958582, -0.02687363,  0.15985295]],\n",
       " \n",
       "         [[ 0.12830555,  0.07988948,  0.14843538,  0.11258081,\n",
       "            0.10119614,  0.00982121,  0.13765597,  0.10817006,\n",
       "           -0.02506553, -0.01776949,  0.01574272, -0.10799421,\n",
       "            0.09533951, -0.12425832, -0.1128413 , -0.09493478],\n",
       "          [ 0.1330949 , -0.07017257, -0.1767812 ,  0.01139988,\n",
       "           -0.16000405,  0.06360812, -0.01284282,  0.07175031,\n",
       "            0.15120539, -0.16056323,  0.15933523, -0.03573297,\n",
       "            0.05413955, -0.03352514, -0.16320226, -0.09246155],\n",
       "          [ 0.1663475 , -0.13993746, -0.13771874,  0.11659804,\n",
       "            0.04911372,  0.15776238,  0.09408841,  0.02386147,\n",
       "            0.17821759, -0.04607631, -0.13195091, -0.01150739,\n",
       "           -0.11874489, -0.09448408,  0.16399488, -0.09568375],\n",
       "          [-0.02109206,  0.16893747, -0.1346384 ,  0.01551825,\n",
       "            0.01226823, -0.06887332, -0.08203551,  0.07846352,\n",
       "            0.04841016,  0.12096655,  0.02645493,  0.10468435,\n",
       "            0.09608203,  0.16643927, -0.07150356, -0.0104949 ]]],\n",
       " \n",
       " \n",
       "        [[[ 0.05682935, -0.0869546 , -0.03053246, -0.1817453 ,\n",
       "            0.10858184,  0.03672253, -0.07727839, -0.1621647 ,\n",
       "            0.06124659, -0.01010105, -0.07144096,  0.09622687,\n",
       "            0.06656396,  0.07720295,  0.15976238, -0.0982342 ],\n",
       "          [-0.10197474, -0.06768806, -0.14960408, -0.06827627,\n",
       "           -0.13096675,  0.15498275, -0.08081382,  0.02998506,\n",
       "           -0.12610835, -0.07026646, -0.05066854, -0.0453532 ,\n",
       "           -0.0492918 , -0.17861138,  0.05647628,  0.02272819],\n",
       "          [-0.15013078,  0.10154811, -0.17447177, -0.11274715,\n",
       "            0.13690111,  0.02582999, -0.05354446,  0.09402525,\n",
       "           -0.05929705,  0.07692099, -0.066477  , -0.09606279,\n",
       "            0.15767524, -0.05500682,  0.1417292 , -0.12647417],\n",
       "          [-0.10277781,  0.03606501,  0.12175086,  0.0532331 ,\n",
       "           -0.1639434 ,  0.0310348 , -0.17949833, -0.12444253,\n",
       "           -0.08354949, -0.11719238,  0.12679118,  0.00053406,\n",
       "           -0.0106893 , -0.02848826,  0.17485178,  0.1364727 ]],\n",
       " \n",
       "         [[ 0.11921144, -0.148406  ,  0.04796678, -0.10428135,\n",
       "            0.16884989, -0.08884624, -0.00827366, -0.10873929,\n",
       "            0.1432521 ,  0.028567  ,  0.04670548,  0.13107824,\n",
       "            0.07659516,  0.1309435 , -0.13300183,  0.17064682],\n",
       "          [-0.09837732, -0.0681234 , -0.0253603 , -0.12608114,\n",
       "            0.18164396, -0.01250364,  0.18051934, -0.0604507 ,\n",
       "           -0.06598952,  0.09114861,  0.09379837,  0.11590353,\n",
       "           -0.09708212, -0.11345889,  0.1357348 , -0.00201456],\n",
       "          [-0.03046535, -0.09532594, -0.10998335, -0.04736042,\n",
       "           -0.1102054 , -0.12638393, -0.05310008, -0.10303555,\n",
       "           -0.10269842, -0.09895518,  0.12689993,  0.01029767,\n",
       "            0.14679319,  0.00604114, -0.02303642,  0.05756721],\n",
       "          [-0.06348337,  0.05959532,  0.18051979, -0.13615443,\n",
       "           -0.04421458,  0.15723029, -0.16365753,  0.13664877,\n",
       "            0.06504671, -0.01513559,  0.11176205,  0.024323  ,\n",
       "           -0.00699626,  0.18150166,  0.05410999,  0.14643377]],\n",
       " \n",
       "         [[ 0.03389883, -0.13222976,  0.01335934, -0.00595221,\n",
       "           -0.15145725,  0.07918248,  0.00741953,  0.14739329,\n",
       "           -0.15216765,  0.00080846,  0.10489002,  0.07195255,\n",
       "           -0.1462099 ,  0.00060126, -0.01598667, -0.09775925],\n",
       "          [ 0.0126068 ,  0.177822  ,  0.001708  , -0.008044  ,\n",
       "           -0.04643826,  0.04037952, -0.1517979 , -0.02197143,\n",
       "           -0.00176528, -0.02467895,  0.16782475,  0.13457945,\n",
       "           -0.17822136, -0.15524724, -0.03909516, -0.00911577],\n",
       "          [ 0.01012626, -0.0350201 ,  0.11673677, -0.00243737,\n",
       "           -0.07916629,  0.07985991, -0.12085757,  0.16556144,\n",
       "           -0.13992304,  0.03644724, -0.06332971, -0.10501068,\n",
       "           -0.04327534, -0.1587885 ,  0.02986264, -0.11983602],\n",
       "          [ 0.1491673 ,  0.14438146, -0.14965701,  0.14247122,\n",
       "           -0.10782692, -0.01470286,  0.11031121, -0.15696746,\n",
       "           -0.10190636, -0.05625159,  0.03219289,  0.13321829,\n",
       "           -0.11811315, -0.08430342, -0.16076076, -0.06091681]]]],\n",
       "       dtype=float32),\n",
       " array([0., 0., 0., 0., 0., 0., 0., 0., 0., 0., 0., 0., 0., 0., 0., 0.],\n",
       "       dtype=float32),\n",
       " array([[[[-0.11509037,  0.08904398, -0.04372224, ...,  0.06863116,\n",
       "            0.0992351 , -0.02547218],\n",
       "          [ 0.05187181,  0.04715123,  0.09418907, ..., -0.06537765,\n",
       "           -0.11191705, -0.03729485],\n",
       "          [ 0.10856124, -0.11253139, -0.00575802, ..., -0.06865581,\n",
       "            0.06137382, -0.07919452],\n",
       "          ...,\n",
       "          [-0.07827234, -0.09591994,  0.10541169, ...,  0.00025881,\n",
       "           -0.03370627, -0.01735593],\n",
       "          [-0.01671758, -0.03249255, -0.05886066, ...,  0.03488972,\n",
       "           -0.07812643,  0.05887552],\n",
       "          [-0.11263776, -0.06883536,  0.00621506, ..., -0.06065342,\n",
       "           -0.00309473, -0.04459586]],\n",
       " \n",
       "         [[ 0.05871061,  0.08958184,  0.05907271, ...,  0.1121    ,\n",
       "           -0.06022139,  0.10054097],\n",
       "          [-0.02304582,  0.08723072, -0.02189709, ...,  0.08412542,\n",
       "            0.08758534, -0.11620414],\n",
       "          [-0.0769783 , -0.07711575,  0.0796052 , ..., -0.07332262,\n",
       "           -0.07737263, -0.08783715],\n",
       "          ...,\n",
       "          [ 0.09255355, -0.10233676, -0.02888428, ..., -0.05271632,\n",
       "           -0.04058303,  0.00111897],\n",
       "          [-0.06527296,  0.03138053,  0.00401137, ..., -0.00904081,\n",
       "            0.0074737 , -0.08143212],\n",
       "          [ 0.01792062,  0.01978115, -0.10923435, ..., -0.08336352,\n",
       "            0.01851017,  0.01393596]],\n",
       " \n",
       "         [[ 0.09253133, -0.06969754, -0.11320017, ...,  0.10162625,\n",
       "            0.1080557 ,  0.09761997],\n",
       "          [-0.08048624,  0.04792555,  0.08983823, ..., -0.06869529,\n",
       "           -0.00724867,  0.04662546],\n",
       "          [-0.09316443,  0.02385045, -0.04701821, ..., -0.11003115,\n",
       "           -0.08337922,  0.06619155],\n",
       "          ...,\n",
       "          [ 0.03048591,  0.09989815, -0.07063064, ...,  0.03371613,\n",
       "           -0.00245634,  0.01008409],\n",
       "          [ 0.0412534 ,  0.04455765, -0.04066845, ...,  0.02366742,\n",
       "            0.09275901, -0.04715022],\n",
       "          [-0.11432931, -0.06744302, -0.07292478, ..., -0.00212914,\n",
       "            0.1127794 ,  0.1057109 ]]],\n",
       " \n",
       " \n",
       "        [[[-0.09769842,  0.02573312,  0.04944407, ..., -0.08068343,\n",
       "           -0.08403575,  0.08251988],\n",
       "          [-0.07308185,  0.07104579, -0.0276501 , ...,  0.01454142,\n",
       "           -0.09447932,  0.09802037],\n",
       "          [ 0.02820557,  0.09762572, -0.07556278, ...,  0.05737268,\n",
       "            0.09434799,  0.09577512],\n",
       "          ...,\n",
       "          [ 0.02068365, -0.01955012, -0.10674403, ..., -0.05614452,\n",
       "            0.08942664, -0.02187584],\n",
       "          [-0.02171914, -0.03750457,  0.1106078 , ...,  0.04869088,\n",
       "            0.00953848,  0.01918358],\n",
       "          [ 0.0244311 ,  0.00846199, -0.11570052, ...,  0.05829325,\n",
       "            0.06086173, -0.00038632]],\n",
       " \n",
       "         [[ 0.07273417,  0.04118534,  0.11528157, ..., -0.0814836 ,\n",
       "           -0.02702335, -0.08534496],\n",
       "          [-0.11052233, -0.04009373,  0.04351125, ..., -0.06186112,\n",
       "           -0.08529708, -0.08362333],\n",
       "          [ 0.0753966 ,  0.00121593, -0.04670079, ..., -0.03696863,\n",
       "           -0.0303092 , -0.04328257],\n",
       "          ...,\n",
       "          [-0.05165355, -0.05202961, -0.01375229, ...,  0.05426983,\n",
       "           -0.06872015,  0.10071043],\n",
       "          [-0.09772745,  0.0318603 , -0.01384355, ...,  0.01242922,\n",
       "           -0.03151455,  0.04292893],\n",
       "          [-0.00388835,  0.05318566, -0.10724985, ...,  0.00450724,\n",
       "           -0.00295492,  0.05801702]],\n",
       " \n",
       "         [[-0.0185286 , -0.10079638, -0.09621592, ...,  0.03991776,\n",
       "            0.09524199,  0.03620403],\n",
       "          [ 0.09204515,  0.08675721, -0.01902076, ..., -0.01844934,\n",
       "           -0.06805705,  0.06787705],\n",
       "          [-0.02341401,  0.08002824,  0.10230026, ...,  0.10477681,\n",
       "           -0.00936568,  0.04741894],\n",
       "          ...,\n",
       "          [-0.06199076, -0.00466571, -0.06587699, ...,  0.07525062,\n",
       "            0.07303815, -0.07335334],\n",
       "          [-0.09583022,  0.01068332, -0.04311642, ..., -0.0395177 ,\n",
       "            0.08681043,  0.02477538],\n",
       "          [-0.10789349,  0.08027052, -0.03607253, ..., -0.02029129,\n",
       "           -0.05289053, -0.07177229]]],\n",
       " \n",
       " \n",
       "        [[[ 0.10993616, -0.0551242 ,  0.00090615, ..., -0.11388435,\n",
       "            0.08391792,  0.07951833],\n",
       "          [ 0.01480489,  0.01548526,  0.0263615 , ...,  0.0342283 ,\n",
       "            0.05115054,  0.01723606],\n",
       "          [-0.09020698, -0.06248023, -0.05424061, ...,  0.00580452,\n",
       "            0.03177386, -0.11291402],\n",
       "          ...,\n",
       "          [ 0.051635  ,  0.08552318, -0.01717909, ...,  0.09520344,\n",
       "           -0.06577221,  0.01886701],\n",
       "          [ 0.07909188, -0.05204242, -0.04692417, ..., -0.03953445,\n",
       "            0.07291432, -0.10534858],\n",
       "          [ 0.0234906 ,  0.0275931 , -0.10175651, ...,  0.00337242,\n",
       "            0.07594126, -0.10785126]],\n",
       " \n",
       "         [[ 0.09129839,  0.06427392, -0.07097625, ...,  0.08448934,\n",
       "           -0.11052761,  0.04439237],\n",
       "          [-0.014651  , -0.08377378,  0.11389758, ..., -0.05455448,\n",
       "            0.10018899,  0.072673  ],\n",
       "          [ 0.07859398, -0.04594298,  0.00234322, ...,  0.07318508,\n",
       "           -0.07102008,  0.05729403],\n",
       "          ...,\n",
       "          [ 0.03263032, -0.05838845,  0.08278023, ..., -0.04453834,\n",
       "            0.00408971, -0.07817878],\n",
       "          [-0.00252752, -0.04244688,  0.03077569, ..., -0.05333307,\n",
       "            0.00506324, -0.01780263],\n",
       "          [-0.0603902 ,  0.11296434, -0.05264909, ..., -0.01630741,\n",
       "           -0.04164474,  0.04808225]],\n",
       " \n",
       "         [[ 0.06408241,  0.09881278,  0.01878617, ..., -0.00584417,\n",
       "            0.07238137,  0.00566912],\n",
       "          [-0.02395267, -0.04111439,  0.10045112, ...,  0.02342375,\n",
       "            0.05371312, -0.00025055],\n",
       "          [ 0.02170771, -0.04464034, -0.05906105, ...,  0.10710032,\n",
       "            0.0304194 , -0.08772704],\n",
       "          ...,\n",
       "          [-0.08361328,  0.0626575 , -0.0664628 , ..., -0.03439059,\n",
       "           -0.09724073, -0.07564407],\n",
       "          [-0.11677729,  0.07536148,  0.00747065, ..., -0.10089795,\n",
       "           -0.0655068 , -0.05210522],\n",
       "          [ 0.05902178, -0.01713045, -0.08802799, ...,  0.09879153,\n",
       "            0.04111557,  0.00293401]]]], dtype=float32),\n",
       " array([0., 0., 0., 0., 0., 0., 0., 0., 0., 0., 0., 0., 0., 0., 0., 0., 0.,\n",
       "        0., 0., 0., 0., 0., 0., 0., 0., 0., 0., 0., 0., 0., 0., 0.],\n",
       "       dtype=float32),\n",
       " array([[[[-7.24196434e-04,  5.09416088e-02,  5.30451313e-02, ...,\n",
       "            4.38007787e-02,  5.80458716e-02,  2.10270062e-02],\n",
       "          [ 6.68190494e-02, -5.93559146e-02, -4.00421843e-02, ...,\n",
       "            2.80117169e-02,  1.03143230e-02,  7.04850331e-02],\n",
       "          [-1.49436370e-02,  3.98233905e-02,  4.07560468e-02, ...,\n",
       "            6.35455027e-02,  5.27129546e-02,  5.19098267e-02],\n",
       "          ...,\n",
       "          [ 4.91338000e-02, -4.57772836e-02, -3.39879990e-02, ...,\n",
       "            8.06208327e-02, -3.35090980e-02,  5.41520193e-02],\n",
       "          [-2.09120736e-02,  5.04716262e-02,  4.60681692e-02, ...,\n",
       "           -6.01383857e-02,  7.83436373e-02,  4.87467125e-02],\n",
       "          [ 3.02599445e-02,  3.61555219e-02, -2.00153962e-02, ...,\n",
       "           -4.00854573e-02,  2.98298225e-02, -6.91521615e-02]],\n",
       " \n",
       "         [[ 6.65159300e-02, -7.35724196e-02,  6.60035759e-03, ...,\n",
       "            2.91797891e-02, -5.89745268e-02,  4.79358509e-02],\n",
       "          [-5.59785180e-02,  3.00546885e-02,  2.67056227e-02, ...,\n",
       "            7.29504451e-02, -3.33549790e-02,  1.30093917e-02],\n",
       "          [-3.04587707e-02,  7.20907226e-02, -6.22749329e-03, ...,\n",
       "           -4.52692136e-02,  1.06806979e-02, -7.40770102e-02],\n",
       "          ...,\n",
       "          [ 5.17345890e-02, -7.77048096e-02,  3.75628471e-04, ...,\n",
       "            3.96583676e-02,  5.00688776e-02, -7.48783350e-06],\n",
       "          [-7.14182705e-02, -3.96114998e-02, -7.87951797e-03, ...,\n",
       "            4.26806435e-02, -1.66648850e-02, -7.38311633e-02],\n",
       "          [ 7.62512162e-02, -5.86334281e-02,  3.73617783e-02, ...,\n",
       "           -1.19119510e-02, -7.54573792e-02, -7.31009841e-02]],\n",
       " \n",
       "         [[ 3.63946185e-02,  4.18199971e-02, -5.31696305e-02, ...,\n",
       "            3.27167287e-02, -1.26396790e-02,  3.92772555e-02],\n",
       "          [ 2.98934951e-02, -3.04700360e-02,  4.37525660e-03, ...,\n",
       "            1.90522447e-02, -5.29764295e-02,  3.50836292e-02],\n",
       "          [ 6.16034642e-02, -8.01375359e-02, -4.30792570e-02, ...,\n",
       "           -6.85331076e-02,  2.94519439e-02,  3.23955789e-02],\n",
       "          ...,\n",
       "          [ 4.07677293e-02,  2.16139331e-02,  8.02440122e-02, ...,\n",
       "            5.41091189e-02, -3.85390520e-02, -4.64203581e-02],\n",
       "          [-7.76895508e-02,  6.75609484e-02, -7.44529366e-02, ...,\n",
       "           -2.74532437e-02, -3.52576971e-02, -2.85676345e-02],\n",
       "          [-5.97344264e-02, -3.28790769e-02, -7.12248683e-02, ...,\n",
       "            1.31087676e-02, -3.55866961e-02, -3.17315012e-03]]],\n",
       " \n",
       " \n",
       "        [[[-2.43487358e-02, -1.39693394e-02, -8.26271400e-02, ...,\n",
       "            7.34548047e-02, -2.48246416e-02, -1.73519626e-02],\n",
       "          [ 6.99888244e-02,  2.32625976e-02,  1.51214823e-02, ...,\n",
       "           -5.25144488e-03,  1.19180456e-02, -1.43061504e-02],\n",
       "          [-6.58298135e-02, -2.01002136e-02,  3.74582037e-02, ...,\n",
       "            7.63059929e-02,  3.88286114e-02, -1.37249231e-02],\n",
       "          ...,\n",
       "          [-2.93222480e-02,  3.91503796e-02, -5.23778051e-03, ...,\n",
       "           -4.38479185e-02, -3.91952395e-02, -7.54597187e-02],\n",
       "          [ 4.83914986e-02,  3.27041373e-02, -7.26145133e-02, ...,\n",
       "            1.27012134e-02, -1.52359009e-02, -3.52886319e-02],\n",
       "          [-6.76131472e-02,  5.41287884e-02, -2.93977261e-02, ...,\n",
       "           -3.27525139e-02,  3.18683609e-02,  8.04992095e-02]],\n",
       " \n",
       "         [[-5.74560985e-02,  1.30162016e-02, -1.99271664e-02, ...,\n",
       "            5.97961992e-03, -4.81518134e-02, -5.50552830e-02],\n",
       "          [ 2.42998376e-02,  6.84107319e-02,  4.62768152e-02, ...,\n",
       "            2.05010548e-02,  3.76535431e-02,  7.32954219e-02],\n",
       "          [ 3.33968177e-02, -4.16312031e-02, -6.80424199e-02, ...,\n",
       "            5.14275059e-02,  2.34917179e-02, -5.82388639e-02],\n",
       "          ...,\n",
       "          [ 2.11659893e-02,  3.72079834e-02, -4.52450924e-02, ...,\n",
       "            6.69925585e-02, -9.14025307e-03, -5.44227175e-02],\n",
       "          [ 6.76768646e-02,  3.96438614e-02,  1.18261799e-02, ...,\n",
       "            1.46228671e-02, -6.13909774e-02, -8.24833512e-02],\n",
       "          [-4.33375463e-02, -6.64417967e-02, -5.75596094e-03, ...,\n",
       "           -3.31919007e-02,  8.73982906e-03, -7.81650171e-02]],\n",
       " \n",
       "         [[ 1.39275193e-02, -8.12500119e-02, -6.14884496e-02, ...,\n",
       "           -1.91728026e-03, -2.27322429e-03, -1.83045045e-02],\n",
       "          [ 5.04212007e-02,  2.32274160e-02, -2.68244371e-02, ...,\n",
       "           -7.07046241e-02, -1.94296837e-02, -8.06421638e-02],\n",
       "          [-6.04952574e-02, -4.66639027e-02, -3.75303030e-02, ...,\n",
       "           -6.88073784e-03, -1.39830485e-02, -3.85830812e-02],\n",
       "          ...,\n",
       "          [-5.92513680e-02,  7.56024942e-02,  3.37434039e-02, ...,\n",
       "           -1.76936612e-02,  5.34910783e-02, -1.17970705e-02],\n",
       "          [-2.43711472e-03, -4.56240587e-02, -3.51462513e-03, ...,\n",
       "           -3.96307558e-03, -8.00463557e-02,  5.96185997e-02],\n",
       "          [ 2.13019252e-02, -3.69367599e-02,  6.39316514e-02, ...,\n",
       "           -6.59583211e-02,  7.41552934e-02,  6.88154921e-02]]],\n",
       " \n",
       " \n",
       "        [[[-1.73012242e-02, -6.32649884e-02, -4.20148186e-02, ...,\n",
       "            1.59361213e-03, -7.63606057e-02,  6.50563091e-03],\n",
       "          [-2.40554810e-02,  6.47776946e-02, -6.96344823e-02, ...,\n",
       "           -3.15563492e-02,  5.90637997e-02,  6.21735230e-02],\n",
       "          [ 1.62052736e-02,  1.90576166e-03, -6.25604242e-02, ...,\n",
       "           -8.55338573e-03, -4.06136140e-02,  4.15352955e-02],\n",
       "          ...,\n",
       "          [ 3.44340205e-02, -1.22886896e-02,  1.82963833e-02, ...,\n",
       "           -4.52780537e-02,  6.71577230e-02,  3.23372111e-02],\n",
       "          [-4.84666973e-03,  5.60468063e-02, -5.87262958e-03, ...,\n",
       "            1.88946351e-02,  2.34319791e-02, -5.20719886e-02],\n",
       "          [ 1.09596252e-02,  7.43113384e-02,  3.63013372e-02, ...,\n",
       "            3.99946347e-02,  7.67878070e-02,  2.33014598e-02]],\n",
       " \n",
       "         [[-2.86254883e-02, -7.71305710e-03,  1.01419464e-02, ...,\n",
       "            8.23701099e-02, -6.54547215e-02, -9.59791243e-04],\n",
       "          [ 8.12403336e-02,  6.13135174e-02,  4.19472083e-02, ...,\n",
       "            7.83596188e-03,  5.59175238e-02,  6.85182288e-02],\n",
       "          [-3.15440893e-02,  2.81631947e-02, -5.01645021e-02, ...,\n",
       "            2.65408382e-02, -1.80687755e-03, -4.21697721e-02],\n",
       "          ...,\n",
       "          [-2.99220495e-02, -7.70936161e-03, -6.34123087e-02, ...,\n",
       "            8.72053206e-04, -6.50859326e-02, -8.05184692e-02],\n",
       "          [-5.63406162e-02, -3.55812721e-02,  3.41054425e-02, ...,\n",
       "           -2.62602791e-02,  2.13338733e-02,  6.88830391e-02],\n",
       "          [ 6.36788234e-02, -6.76912069e-02, -3.80514860e-02, ...,\n",
       "           -6.77114129e-02,  1.69341192e-02, -7.78286681e-02]],\n",
       " \n",
       "         [[ 1.42676830e-02, -6.41667843e-03, -4.45288420e-03, ...,\n",
       "           -4.63943109e-02,  6.97507709e-03,  5.00305668e-02],\n",
       "          [ 3.12362909e-02, -4.34503779e-02,  4.61504683e-02, ...,\n",
       "            2.61549950e-02,  8.25953707e-02,  5.11750057e-02],\n",
       "          [ 2.79351324e-03, -4.65500578e-02,  5.33361211e-02, ...,\n",
       "            6.92954436e-02,  6.14887550e-02, -2.15484314e-02],\n",
       "          ...,\n",
       "          [-6.12493604e-03, -7.34323263e-03, -1.82439089e-02, ...,\n",
       "            8.17957893e-02,  7.70737976e-03,  2.87466273e-02],\n",
       "          [ 2.56957039e-02,  1.00655556e-02,  8.22395161e-02, ...,\n",
       "            6.13565221e-02, -1.79149285e-02, -5.47612906e-02],\n",
       "          [ 5.24393097e-02, -6.58124909e-02,  3.31203341e-02, ...,\n",
       "            3.30477953e-02,  5.72351366e-03,  4.72658500e-02]]]],\n",
       "       dtype=float32),\n",
       " array([0., 0., 0., 0., 0., 0., 0., 0., 0., 0., 0., 0., 0., 0., 0., 0., 0.,\n",
       "        0., 0., 0., 0., 0., 0., 0., 0., 0., 0., 0., 0., 0., 0., 0., 0., 0.,\n",
       "        0., 0., 0., 0., 0., 0., 0., 0., 0., 0., 0., 0., 0., 0., 0., 0., 0.,\n",
       "        0., 0., 0., 0., 0., 0., 0., 0., 0., 0., 0., 0., 0.], dtype=float32),\n",
       " array([[ 0.00416648,  0.00575725,  0.00608573, ..., -0.00842954,\n",
       "         -0.02517061,  0.03257019],\n",
       "        [ 0.00079041,  0.02816044, -0.03463648, ...,  0.03298925,\n",
       "         -0.04071259,  0.00551618],\n",
       "        [-0.01781402,  0.02144433,  0.04167775, ..., -0.00952204,\n",
       "          0.0159315 , -0.00336408],\n",
       "        ...,\n",
       "        [-0.00918593, -0.03086222, -0.03066246, ...,  0.02789482,\n",
       "          0.04100532,  0.00429208],\n",
       "        [-0.01838742,  0.02230593, -0.02866746, ...,  0.04024189,\n",
       "          0.03868725, -0.00993904],\n",
       "        [-0.03221324,  0.00123611,  0.0012297 , ...,  0.00113492,\n",
       "          0.00460277,  0.03762267]], dtype=float32),\n",
       " array([0., 0., 0., 0., 0., 0., 0., 0., 0., 0., 0., 0., 0., 0., 0., 0., 0.,\n",
       "        0., 0., 0., 0., 0., 0., 0., 0., 0., 0., 0., 0., 0., 0., 0., 0., 0.,\n",
       "        0., 0., 0., 0., 0., 0., 0., 0., 0., 0., 0., 0., 0., 0., 0., 0., 0.,\n",
       "        0., 0., 0., 0., 0., 0., 0., 0., 0., 0., 0., 0., 0., 0., 0., 0., 0.,\n",
       "        0., 0., 0., 0., 0., 0., 0., 0., 0., 0., 0., 0., 0., 0., 0., 0., 0.,\n",
       "        0., 0., 0., 0., 0., 0., 0., 0., 0., 0., 0., 0., 0., 0., 0., 0., 0.,\n",
       "        0., 0., 0., 0., 0., 0., 0., 0., 0., 0., 0., 0., 0., 0., 0., 0., 0.,\n",
       "        0., 0., 0., 0., 0., 0., 0., 0., 0., 0., 0., 0., 0., 0., 0., 0., 0.,\n",
       "        0., 0., 0., 0., 0., 0., 0., 0., 0., 0., 0., 0., 0., 0., 0., 0., 0.,\n",
       "        0., 0., 0., 0., 0., 0., 0., 0., 0., 0., 0., 0., 0., 0., 0., 0., 0.,\n",
       "        0., 0., 0., 0., 0., 0., 0., 0., 0., 0., 0., 0., 0., 0., 0., 0., 0.,\n",
       "        0., 0., 0., 0., 0., 0., 0., 0., 0., 0., 0., 0., 0., 0., 0., 0., 0.,\n",
       "        0., 0., 0., 0., 0., 0., 0., 0., 0., 0., 0., 0., 0., 0., 0., 0., 0.,\n",
       "        0., 0., 0., 0., 0., 0., 0., 0., 0., 0., 0., 0., 0., 0., 0., 0., 0.,\n",
       "        0., 0., 0., 0., 0., 0., 0., 0., 0., 0., 0., 0., 0., 0., 0., 0., 0.,\n",
       "        0.], dtype=float32),\n",
       " array([[-0.13829952,  0.09939295, -0.00112733, -0.06482453],\n",
       "        [-0.15120761, -0.13961284, -0.07220605,  0.02116084],\n",
       "        [ 0.04519953, -0.11930114, -0.01118653, -0.1426315 ],\n",
       "        ...,\n",
       "        [ 0.06108372, -0.12258506,  0.01495624,  0.01492128],\n",
       "        [-0.02437957, -0.02813075,  0.02736281, -0.15016036],\n",
       "        [ 0.05182531, -0.05451707,  0.0424888 ,  0.1256645 ]],\n",
       "       dtype=float32),\n",
       " array([0., 0., 0., 0.], dtype=float32)]"
      ]
     },
     "execution_count": 36,
     "metadata": {},
     "output_type": "execute_result"
    }
   ],
   "source": [
    "seed = 17\n",
    "random.seed(seed)\n",
    "np.random.seed(seed)\n",
    "tf.set_random_seed(seed)\n",
    "\n",
    "env = make_env(seed)\n",
    "state_shape = env.observation_space.shape\n",
    "n_actions = env.action_space.n\n",
    "state = env.reset()\n",
    "\n",
    "sess.run(tf.global_variables_initializer())\n",
    "sess.run(copy_step)"
   ]
  },
  {
   "cell_type": "code",
   "execution_count": 37,
   "metadata": {},
   "outputs": [],
   "source": [
    "REPLAY_BUFFER_SIZE = 10**5\n",
    "\n",
    "exp_replay = ReplayBuffer(REPLAY_BUFFER_SIZE)\n",
    "_, state = play_and_record(state, agent, env, exp_replay, n_steps=10000)\n",
    "\n",
    "\n",
    "def sample_batch(exp_replay, batch_size):\n",
    "    obs_batch, act_batch, reward_batch, next_obs_batch, is_done_batch = exp_replay.sample(batch_size)\n",
    "    return {\n",
    "        obs_ph: obs_batch,\n",
    "        actions_ph: act_batch,\n",
    "        rewards_ph: reward_batch,\n",
    "        next_obs_ph: next_obs_batch,\n",
    "        is_done_ph: is_done_batch,\n",
    "    }"
   ]
  },
  {
   "cell_type": "code",
   "execution_count": 38,
   "metadata": {},
   "outputs": [],
   "source": [
    "timesteps_per_epoch = 10\n",
    "batch_size = 64\n",
    "total_steps = 3 * 10**5\n",
    "decay_steps = 10**5\n",
    "\n",
    "init_epsilon = 1\n",
    "final_epsilon = 0.1\n",
    "\n",
    "loss_freq = 5\n",
    "refresh_target_network_freq = 500\n",
    "eval_freq = 500\n",
    "\n",
    "n_lives = 5"
   ]
  },
  {
   "cell_type": "code",
   "execution_count": 39,
   "metadata": {},
   "outputs": [],
   "source": [
    "mean_rw_history = []\n",
    "td_loss_history = []\n",
    "initial_state_v_history = []\n",
    "step = 0"
   ]
  },
  {
   "cell_type": "code",
   "execution_count": null,
   "metadata": {},
   "outputs": [
    {
     "name": "stdout",
     "output_type": "stream",
     "text": [
      "buffer size = 15010, epsilon = 0.99550\n"
     ]
    },
    {
     "data": {
      "image/png": "[encoded data removed]",
      "text/plain": [
       "<Figure size 1152x648 with 3 Axes>"
      ]
     },
     "metadata": {
      "needs_background": "light"
     },
     "output_type": "display_data"
    },
    {
     "name": "stderr",
     "output_type": "stream",
     "text": [
      "  0%|          | 558/300000 [02:49<466:31:47,  5.61s/it]"
     ]
    }
   ],
   "source": [
    "state = env.reset()\n",
    "\n",
    "with trange(step, total_steps) as progress_bar:\n",
    "    for step in progress_bar:\n",
    "        agent.epsilon = utils.linear_decay(init_epsilon, final_epsilon, step, decay_steps)\n",
    "        \n",
    "        # play\n",
    "        _, state = play_and_record(state, agent, env, exp_replay, timesteps_per_epoch)\n",
    "\n",
    "        # train\n",
    "        _, loss_t = sess.run([train_step, td_loss], sample_batch(exp_replay, batch_size=batch_size))\n",
    "        \n",
    "        if step % loss_freq == 0:\n",
    "            td_loss_history.append(loss_t)\n",
    "            \n",
    "        if step % refresh_target_network_freq == 0:\n",
    "            # Load agent weights into target_network\n",
    "            sess.run(copy_step)\n",
    "\n",
    "        if step % eval_freq == 0:\n",
    "            # eval the agent\n",
    "            mean_rw_history.append(evaluate(\n",
    "                make_env(clip_rewards=True, seed=step), agent, n_games=3 * n_lives, greedy=True)\n",
    "            )\n",
    "            initial_state_q_values = agent.get_qvalues(\n",
    "                [make_env(seed=step).reset()]\n",
    "            )\n",
    "            initial_state_v_history.append(np.max(initial_state_q_values))\n",
    "\n",
    "            clear_output(True)\n",
    "            print(\"buffer size = %i, epsilon = %.5f\" %\n",
    "                (len(exp_replay), agent.epsilon))\n",
    "\n",
    "            plt.figure(figsize=[16, 9])\n",
    "\n",
    "            plt.subplot(2, 2, 1)\n",
    "            plt.title(\"Mean reward per life\")\n",
    "            plt.plot(mean_rw_history)\n",
    "            plt.grid()\n",
    "\n",
    "            assert not np.isnan(td_loss_history[-1])\n",
    "            plt.subplot(2, 2, 2)\n",
    "            plt.title(\"TD loss history (smoothened)\")\n",
    "            plt.plot(utils.smoothen(td_loss_history))\n",
    "            plt.grid()\n",
    "\n",
    "            plt.subplot(2, 2, 3)\n",
    "            plt.title(\"Initial state V\")\n",
    "            plt.plot(initial_state_v_history)\n",
    "            plt.grid()\n",
    "\n",
    "            plt.show()"
   ]
  },
  {
   "cell_type": "markdown",
   "metadata": {},
   "source": [
    "Agent is evaluated for 1 life, not for a whole episode of 5 lives. Rewards in evaluation are also truncated. Cuz this is what environment the agent is learning in and in this way mean rewards per life can be compared with initial state value\n",
    "\n",
    "**The goal is to get 15 points in the real env**. So 3 or better 4 points in the preprocessed one will probably be enough. You can interrupt learning then."
   ]
  },
  {
   "cell_type": "markdown",
   "metadata": {},
   "source": [
    "Final scoring is done on a whole episode with all 5 lives."
   ]
  },
  {
   "cell_type": "code",
   "execution_count": null,
   "metadata": {},
   "outputs": [],
   "source": [
    "final_score = evaluate(\n",
    "  make_env(clip_rewards=False, seed=9),\n",
    "    agent, n_games=30, greedy=True, t_max=10 * 1000\n",
    ") * n_lives\n",
    "print('final score:', final_score)\n",
    "assert final_score >= 15, 'not as cool as DQN can'\n",
    "print('Cool!')"
   ]
  },
  {
   "cell_type": "markdown",
   "metadata": {},
   "source": [
    "## How to interpret plots:\n",
    "\n",
    "This aint no supervised learning so don't expect anything to improve monotonously. \n",
    "* **TD loss** is the MSE between agent's current Q-values and target Q-values. It may slowly increase or decrease, it's ok. The \"not ok\" behavior includes going NaN or stayng at exactly zero before agent has perfect performance.\n",
    "* **mean reward** is the expected sum of r(s,a) agent gets over the full game session. It will oscillate, but on average it should get higher over time (after a few thousand iterations...). \n",
    " * In basic q-learning implementation it takes about 40k steps to \"warm up\" agent before it starts to get better.\n",
    "* **Initial state V** is the expected discounted reward for episode in the oppinion of the agent. It should behave more smoothly than **mean reward**. It should get higher over time but sometimes can experience drawdowns because of the agaent's overestimates.\n",
    "* **buffer size** - this one is simple. It should go up and cap at max size.\n",
    "* **epsilon** - agent's willingness to explore. If you see that agent's already at 0.01 epsilon before it's average reward is above 0 - it means you need to increase epsilon. Set it back to some 0.2 - 0.5 and decrease the pace at which it goes down.\n",
    "* Smoothing of plots is done with a gaussian kernel\n",
    "\n",
    "At first your agent will lose quickly. Then it will learn to suck less and at least hit the ball a few times before it loses. Finally it will learn to actually score points.\n",
    "\n",
    "**Training will take time.** A lot of it actually. Probably you will not see any improvment during first **150k** time steps (note that by default in this notebook agent is evaluated every 5000 time steps).\n",
    "\n",
    "But hey, long training time isn't _that_ bad:\n",
    "\n",
    "![img](https://github.com/yandexdataschool/Practical_RL/raw/master/yet_another_week/_resource/training.png)"
   ]
  },
  {
   "cell_type": "markdown",
   "metadata": {},
   "source": [
    "## About hyperparameters:\n",
    "\n",
    "The task has something in common with supervised learning: loss is optimized through the buffer (instead of Train dataset). But the distribution of states and actions in the buffer **is not stationary** and depends on the policy that generated it. It can even happen that the mean TD error across the buffer is very low but the performance is extremely poor (imagine the agent collecting data to the buffer always manages to avoid the ball).\n",
    "\n",
    "* Total timesteps and training time: It seems to be so huge, but actually it is normal for RL.\n",
    "\n",
    "* $\\epsilon$ decay shedule was taken from the original paper and is like traditional for epsilon-greedy policies. At the beginning of the training the agent's greedy policy is poor so many random actions should be taken.\n",
    "\n",
    "* Optimizer: In the original paper RMSProp was used (they did not have Adam in 2013) and it can work not worse than Adam. For us Adam was default and it worked.\n",
    "\n",
    "* lr: $10^{-3}$ would probably be too huge\n",
    "\n",
    "* batch size: This one can be very important: if it is too small the agent can fail to learn. Huge batch takes more time to process.\n",
    "\n",
    "* target network update frequency: has something in common with learning rate. Too frequent updates can lead to divergence. Too rare can lead to slow learning. For millions of total timesteps thousands of inner steps seem ok. One iteration of target network updating is an iteration of the (this time approximate) $\\gamma$-compression that stands behind Q-learning. The more inner steps it makes the more accurate is the compression."
   ]
  },
  {
   "cell_type": "markdown",
   "metadata": {},
   "source": [
    "## Let's have a closer look at this.\n",
    "\n",
    "If average episode score is below 200 using all 5 lives, then probably DQN has not converged fully. But anyway let's make a more complete record of an episode."
   ]
  },
  {
   "cell_type": "code",
   "execution_count": null,
   "metadata": {},
   "outputs": [],
   "source": [
    "eval_env = make_env(clip_rewards=False)\n",
    "record = utils.play_and_log_episode(eval_env, agent)\n",
    "print('total reward for life:', np.sum(record['rewards']))\n",
    "for key in record:\n",
    "    print(key)"
   ]
  },
  {
   "cell_type": "code",
   "execution_count": null,
   "metadata": {},
   "outputs": [],
   "source": [
    "fig = plt.figure(figsize=(5, 5))\n",
    "ax = fig.add_subplot(1, 1, 1)\n",
    "\n",
    "ax.scatter(record['v_mc'], record['v_agent'])\n",
    "ax.plot(sorted(record['v_mc']), sorted(record['v_mc']),\n",
    "       'black', linestyle='--', label='x=y')\n",
    "\n",
    "ax.grid()\n",
    "ax.legend()\n",
    "ax.set_title('State Value Estimates')\n",
    "ax.set_xlabel('Monte-Carlo')\n",
    "ax.set_ylabel('Agent')\n",
    "\n",
    "plt.show()"
   ]
  },
  {
   "cell_type": "markdown",
   "metadata": {},
   "source": [
    "$\\hat V_{Monte-Carlo}(s_t) = \\sum_{\\tau=0}^{episode~end} \\gamma^{\\tau-t}r_t$"
   ]
  },
  {
   "cell_type": "markdown",
   "metadata": {},
   "source": [
    "Is there a big bias? It's ok, anyway it works."
   ]
  },
  {
   "cell_type": "markdown",
   "metadata": {},
   "source": [
    "### Video"
   ]
  },
  {
   "cell_type": "code",
   "execution_count": null,
   "metadata": {},
   "outputs": [],
   "source": [
    "# Record sessions\n",
    "\n",
    "import gym.wrappers\n",
    "\n",
    "with gym.wrappers.Monitor(make_env(), directory=\"videos\", force=True) as env_monitor:\n",
    "    sessions = [evaluate(env_monitor, agent, n_games=n_lives, greedy=True) for _ in range(10)]"
   ]
  },
  {
   "cell_type": "code",
   "execution_count": null,
   "metadata": {},
   "outputs": [],
   "source": [
    "# Show video. This may not work in some setups. If it doesn't\n",
    "# work for you, you can download the videos and view them locally.\n",
    "\n",
    "from pathlib import Path\n",
    "from base64 import b64encode\n",
    "from IPython.display import HTML\n",
    "\n",
    "video_paths = sorted([s for s in Path('videos').iterdir() if s.suffix == '.mp4'])\n",
    "video_path = video_paths[-1]  # You can also try other indices\n",
    "\n",
    "if 'google.colab' in sys.modules:\n",
    "    # https://stackoverflow.com/a/57378660/1214547\n",
    "    with video_path.open('rb') as fp:\n",
    "        mp4 = fp.read()\n",
    "    data_url = 'data:video/mp4;base64,' + b64encode(mp4).decode()\n",
    "else:\n",
    "    data_url = str(video_path)\n",
    "\n",
    "HTML(\"\"\"\n",
    "<video width=\"640\" height=\"480\" controls>\n",
    "  <source src=\"{}\" type=\"video/mp4\">\n",
    "</video>\n",
    "\"\"\".format(data_url))"
   ]
  },
  {
   "cell_type": "markdown",
   "metadata": {},
   "source": [
    "## Bonus I (2 pts)"
   ]
  },
  {
   "cell_type": "markdown",
   "metadata": {},
   "source": [
    "**1.** Plot several (say 3) states with high and low spreads of Q estimate by actions i.e.\n",
    "$$\\max_a \\hat Q(s,a) - \\min_a \\hat Q(s,a)\\$$\n",
    "Please take those states from different episodes to make sure that the states are really different.\n",
    "\n",
    "What should high and low spread mean at least in the world of perfect Q-fucntions?\n",
    "\n",
    "Comment the states you like most.\n",
    "\n",
    "**2.** Plot several (say 3) states with high td-error and several states with high values of\n",
    "$$| \\hat V_{Monte-Carlo}(s) - \\hat V_{agent}(s)|,$$ \n",
    "$$\\hat V_{agent}(s)=\\max_a \\hat Q(s,a).$$ Please take those states from different episodes to make sure that the states are really different. From what part (i.e. beginning, middle, end) of an episode did these states come from?\n",
    "\n",
    "Comment the states you like most."
   ]
  },
  {
   "cell_type": "code",
   "execution_count": null,
   "metadata": {},
   "outputs": [],
   "source": [
    "from utils import play_and_log_episode, img_by_obs\n",
    "\n",
    "<YOUR CODE>"
   ]
  },
  {
   "cell_type": "markdown",
   "metadata": {},
   "source": [
    "## Bonus II (1-5 pts). Get High Score!\n",
    "\n",
    "1 point to you for each 50 points of your agent. Truncated by 5 points. Starting with 50 points, **not** 50 + threshold.\n",
    "\n",
    "One way is to train for several days and use heavier hardware (why not actually).\n",
    "\n",
    "Another way is to apply modifications (see **Bonus III**)."
   ]
  },
  {
   "cell_type": "markdown",
   "metadata": {},
   "source": [
    "## Bonus III (2+ pts). Apply modifications to DQN.\n",
    "\n",
    "For inspiration see [Rainbow](https://arxiv.org/abs/1710.02298) - a version of q-learning that combines lots of them.\n",
    "\n",
    "Points for Bonus II and Bonus III fully stack. So if modified agent gets score 250+ you get 5 pts for Bonus II + points for modifications. If the final score is 40 then you get the points for modifications.\n",
    "\n",
    "\n",
    "Some modifications:\n",
    "* [Prioritized experience replay](https://arxiv.org/abs/1511.05952) (5 pts for your own implementation, 3 pts for using a ready one)\n",
    "* [double q-learning](https://arxiv.org/abs/1509.06461) (2 pts)\n",
    "* [dueling q-learning](https://arxiv.org/abs/1511.06581) (2 pts)\n",
    "* multi-step heuristics (see [Rainbow](https://arxiv.org/abs/1710.02298)) (3 pts)\n",
    "* [Noisy Nets](https://arxiv.org/abs/1706.10295) (3 pts)\n",
    "* [distributional RL](https://arxiv.org/abs/1707.06887)(distributional and distributed stand for different things here) (5 pts)\n",
    "* Other modifications (2+ pts depending on complexity)"
   ]
  },
  {
   "cell_type": "markdown",
   "metadata": {},
   "source": [
    "## Bonus IV (4+ pts). Distributed RL.\n",
    "\n",
    "Solve the task in a distributed way. It can strongly speed up learning. See [article](https://arxiv.org/pdf/1602.01783.pdf) or some guides."
   ]
  },
  {
   "cell_type": "markdown",
   "metadata": {},
   "source": [
    "**As usual bonus points for all the tasks fully stack.**"
   ]
  }
 ],
 "metadata": {
  "accelerator": "GPU",
  "kernelspec": {
   "display_name": "Python 3",
   "language": "python",
   "name": "python3"
  },
  "language_info": {
   "codemirror_mode": {
    "name": "ipython",
    "version": 3
   },
   "file_extension": ".py",
   "mimetype": "text/x-python",
   "name": "python",
   "nbconvert_exporter": "python",
   "pygments_lexer": "ipython3",
   "version": "3.7.7"
  }
 },
 "nbformat": 4,
 "nbformat_minor": 1
}
