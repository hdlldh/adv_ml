{
 "cells": [
  {
   "cell_type": "markdown",
   "metadata": {},
   "source": [
    "# Measuring the Z boson mass\n",
    "\n",
    "\n",
    "Let's look at a sample of $Z$ boson candidates recorded by CMS in 2011 and published at CERN opendata portal. It comes from DoubleMuon dataset with the following selection applied:\n",
    "\n",
    "- Both muons are \"global\" muons\n",
    "- invariant mass sits in range: 60 GeV < $ M_{\\mu\\mu}$ < 120 GeV\n",
    "- |$\\eta$| < 2.1 for both muons\n",
    "- $p_{t}$ > 20 GeV\n",
    "\n",
    "The following columns presented in the CSV file:\n",
    "\n",
    "- `Run`, Event are the run and event numbers, respectively\n",
    "- `pt` is the transverse momentum $p_{t}$ of the muon\n",
    "- `eta` is the pseudorapidity of the muon: $\\eta$\n",
    "- `phi` is the $\\phi$ angle of the muon direction\n",
    "- `Q` is the charge of the muon\n",
    "- `dxy` is the impact parameter in the transverse plane: $d_{xy}$ - how distant is the track from the collision point\n",
    "- `iso` is the track isolation: $I_{track}$ - how many other tracks are there around given track"
   ]
  },
  {
   "cell_type": "code",
   "execution_count": 2,
   "metadata": {},
   "outputs": [],
   "source": [
    "import numpy as np\n",
    "import pandas as pd\n",
    "import matplotlib.pyplot as plt\n",
    "from skopt import gp_minimize\n",
    "%matplotlib inline"
   ]
  },
  {
   "cell_type": "markdown",
   "metadata": {},
   "source": [
    "## Read dataset"
   ]
  },
  {
   "cell_type": "code",
   "execution_count": 3,
   "metadata": {},
   "outputs": [
    {
     "data": {
      "text/plain": [
       "(10000, 14)"
      ]
     },
     "execution_count": 3,
     "metadata": {},
     "output_type": "execute_result"
    }
   ],
   "source": [
    "df = pd.read_csv('./Zmumu.csv')\n",
    "df.shape"
   ]
  },
  {
   "cell_type": "markdown",
   "metadata": {},
   "source": [
    "Let's calculate the invariant mass $M$ of the two muons using the formula\n",
    "\n",
    "$M = \\sqrt{2p_{t}^{1}p_{t}^{2}(\\cosh(\\eta_{1}-\\eta_{2}) - \\cos(\\phi_{1}-\\phi_{2}))}$"
   ]
  },
  {
   "cell_type": "code",
   "execution_count": 4,
   "metadata": {},
   "outputs": [
    {
     "data": {
      "text/html": [
       "<div>\n",
       "<style scoped>\n",
       "    .dataframe tbody tr th:only-of-type {\n",
       "        vertical-align: middle;\n",
       "    }\n",
       "\n",
       "    .dataframe tbody tr th {\n",
       "        vertical-align: top;\n",
       "    }\n",
       "\n",
       "    .dataframe thead th {\n",
       "        text-align: right;\n",
       "    }\n",
       "</style>\n",
       "<table border=\"1\" class=\"dataframe\">\n",
       "  <thead>\n",
       "    <tr style=\"text-align: right;\">\n",
       "      <th></th>\n",
       "      <th>Run</th>\n",
       "      <th>Event</th>\n",
       "      <th>pt1</th>\n",
       "      <th>eta1</th>\n",
       "      <th>phi1</th>\n",
       "      <th>Q1</th>\n",
       "      <th>dxy1</th>\n",
       "      <th>iso1</th>\n",
       "      <th>pt2</th>\n",
       "      <th>eta2</th>\n",
       "      <th>phi2</th>\n",
       "      <th>Q2</th>\n",
       "      <th>dxy2</th>\n",
       "      <th>iso2</th>\n",
       "      <th>M</th>\n",
       "    </tr>\n",
       "  </thead>\n",
       "  <tbody>\n",
       "    <tr>\n",
       "      <th>0</th>\n",
       "      <td>165617</td>\n",
       "      <td>74969122</td>\n",
       "      <td>54.7055</td>\n",
       "      <td>-0.4324</td>\n",
       "      <td>2.5742</td>\n",
       "      <td>1</td>\n",
       "      <td>-0.0745</td>\n",
       "      <td>0.4999</td>\n",
       "      <td>34.2464</td>\n",
       "      <td>-0.9885</td>\n",
       "      <td>-0.4987</td>\n",
       "      <td>-1</td>\n",
       "      <td>0.0712</td>\n",
       "      <td>3.4221</td>\n",
       "      <td>89.885919</td>\n",
       "    </tr>\n",
       "    <tr>\n",
       "      <th>1</th>\n",
       "      <td>165617</td>\n",
       "      <td>75138253</td>\n",
       "      <td>24.5872</td>\n",
       "      <td>-2.0522</td>\n",
       "      <td>2.8666</td>\n",
       "      <td>-1</td>\n",
       "      <td>-0.0554</td>\n",
       "      <td>0.0000</td>\n",
       "      <td>28.5389</td>\n",
       "      <td>0.3852</td>\n",
       "      <td>-1.9912</td>\n",
       "      <td>1</td>\n",
       "      <td>0.0515</td>\n",
       "      <td>0.0000</td>\n",
       "      <td>88.812177</td>\n",
       "    </tr>\n",
       "  </tbody>\n",
       "</table>\n",
       "</div>"
      ],
      "text/plain": [
       "      Run     Event      pt1    eta1    phi1  Q1    dxy1    iso1      pt2  \\\n",
       "0  165617  74969122  54.7055 -0.4324  2.5742   1 -0.0745  0.4999  34.2464   \n",
       "1  165617  75138253  24.5872 -2.0522  2.8666  -1 -0.0554  0.0000  28.5389   \n",
       "\n",
       "     eta2    phi2  Q2    dxy2    iso2          M  \n",
       "0 -0.9885 -0.4987  -1  0.0712  3.4221  89.885919  \n",
       "1  0.3852 -1.9912   1  0.0515  0.0000  88.812177  "
      ]
     },
     "execution_count": 4,
     "metadata": {},
     "output_type": "execute_result"
    }
   ],
   "source": [
    "df['M'] = np.sqrt(2 * df['pt1'] * df['pt2'] * (np.cosh(df['eta1'] - df['eta2']) - np.cos(df['phi1'] - df['phi2'])))\n",
    "df.head(2)"
   ]
  },
  {
   "cell_type": "code",
   "execution_count": 7,
   "metadata": {},
   "outputs": [
    {
     "data": {
      "text/html": [
       "<div>\n",
       "<style scoped>\n",
       "    .dataframe tbody tr th:only-of-type {\n",
       "        vertical-align: middle;\n",
       "    }\n",
       "\n",
       "    .dataframe tbody tr th {\n",
       "        vertical-align: top;\n",
       "    }\n",
       "\n",
       "    .dataframe thead th {\n",
       "        text-align: right;\n",
       "    }\n",
       "</style>\n",
       "<table border=\"1\" class=\"dataframe\">\n",
       "  <thead>\n",
       "    <tr style=\"text-align: right;\">\n",
       "      <th></th>\n",
       "      <th>Run</th>\n",
       "      <th>Event</th>\n",
       "      <th>pt1</th>\n",
       "      <th>eta1</th>\n",
       "      <th>phi1</th>\n",
       "      <th>Q1</th>\n",
       "      <th>dxy1</th>\n",
       "      <th>iso1</th>\n",
       "      <th>pt2</th>\n",
       "      <th>eta2</th>\n",
       "      <th>phi2</th>\n",
       "      <th>Q2</th>\n",
       "      <th>dxy2</th>\n",
       "      <th>iso2</th>\n",
       "      <th>M</th>\n",
       "    </tr>\n",
       "  </thead>\n",
       "  <tbody>\n",
       "    <tr>\n",
       "      <th>count</th>\n",
       "      <td>10000.00000</td>\n",
       "      <td>1.000000e+04</td>\n",
       "      <td>10000.000000</td>\n",
       "      <td>10000.000000</td>\n",
       "      <td>10000.00000</td>\n",
       "      <td>10000.000000</td>\n",
       "      <td>10000.000000</td>\n",
       "      <td>10000.000000</td>\n",
       "      <td>10000.000000</td>\n",
       "      <td>10000.000000</td>\n",
       "      <td>10000.000000</td>\n",
       "      <td>10000.000000</td>\n",
       "      <td>10000.00000</td>\n",
       "      <td>10000.000000</td>\n",
       "      <td>10000.000000</td>\n",
       "    </tr>\n",
       "    <tr>\n",
       "      <th>mean</th>\n",
       "      <td>168783.06370</td>\n",
       "      <td>4.019532e+08</td>\n",
       "      <td>38.403231</td>\n",
       "      <td>-0.278699</td>\n",
       "      <td>-0.23353</td>\n",
       "      <td>-0.031200</td>\n",
       "      <td>0.006345</td>\n",
       "      <td>1.514267</td>\n",
       "      <td>38.639360</td>\n",
       "      <td>0.079500</td>\n",
       "      <td>0.250883</td>\n",
       "      <td>0.038400</td>\n",
       "      <td>0.01058</td>\n",
       "      <td>1.732420</td>\n",
       "      <td>87.973980</td>\n",
       "    </tr>\n",
       "    <tr>\n",
       "      <th>std</th>\n",
       "      <td>3929.76919</td>\n",
       "      <td>3.492634e+08</td>\n",
       "      <td>14.427817</td>\n",
       "      <td>1.352768</td>\n",
       "      <td>1.80456</td>\n",
       "      <td>0.999563</td>\n",
       "      <td>0.074693</td>\n",
       "      <td>6.353057</td>\n",
       "      <td>15.945227</td>\n",
       "      <td>0.871556</td>\n",
       "      <td>1.787396</td>\n",
       "      <td>0.999312</td>\n",
       "      <td>1.78079</td>\n",
       "      <td>6.812311</td>\n",
       "      <td>8.840568</td>\n",
       "    </tr>\n",
       "    <tr>\n",
       "      <th>min</th>\n",
       "      <td>160957.00000</td>\n",
       "      <td>8.922000e+04</td>\n",
       "      <td>3.463700</td>\n",
       "      <td>-2.437500</td>\n",
       "      <td>-3.14140</td>\n",
       "      <td>-1.000000</td>\n",
       "      <td>-3.588000</td>\n",
       "      <td>0.000000</td>\n",
       "      <td>3.266200</td>\n",
       "      <td>-2.428000</td>\n",
       "      <td>-3.141500</td>\n",
       "      <td>-1.000000</td>\n",
       "      <td>-2.00520</td>\n",
       "      <td>0.000000</td>\n",
       "      <td>60.002249</td>\n",
       "    </tr>\n",
       "    <tr>\n",
       "      <th>25%</th>\n",
       "      <td>166033.00000</td>\n",
       "      <td>1.250350e+08</td>\n",
       "      <td>30.160275</td>\n",
       "      <td>-1.429850</td>\n",
       "      <td>-1.77995</td>\n",
       "      <td>-1.000000</td>\n",
       "      <td>-0.051500</td>\n",
       "      <td>0.000000</td>\n",
       "      <td>30.033800</td>\n",
       "      <td>-0.566525</td>\n",
       "      <td>-1.258575</td>\n",
       "      <td>-1.000000</td>\n",
       "      <td>-0.06740</td>\n",
       "      <td>0.000000</td>\n",
       "      <td>86.940134</td>\n",
       "    </tr>\n",
       "    <tr>\n",
       "      <th>50%</th>\n",
       "      <td>167102.00000</td>\n",
       "      <td>3.206396e+08</td>\n",
       "      <td>38.883850</td>\n",
       "      <td>-0.557000</td>\n",
       "      <td>-0.42945</td>\n",
       "      <td>-1.000000</td>\n",
       "      <td>0.012100</td>\n",
       "      <td>0.000000</td>\n",
       "      <td>38.932350</td>\n",
       "      <td>0.076450</td>\n",
       "      <td>0.406600</td>\n",
       "      <td>1.000000</td>\n",
       "      <td>-0.01315</td>\n",
       "      <td>0.000000</td>\n",
       "      <td>90.285408</td>\n",
       "    </tr>\n",
       "    <tr>\n",
       "      <th>75%</th>\n",
       "      <td>173381.00000</td>\n",
       "      <td>5.666747e+08</td>\n",
       "      <td>45.057750</td>\n",
       "      <td>1.094800</td>\n",
       "      <td>1.30270</td>\n",
       "      <td>1.000000</td>\n",
       "      <td>0.066500</td>\n",
       "      <td>0.478550</td>\n",
       "      <td>45.194675</td>\n",
       "      <td>0.738500</td>\n",
       "      <td>1.803625</td>\n",
       "      <td>1.000000</td>\n",
       "      <td>0.05290</td>\n",
       "      <td>0.527525</td>\n",
       "      <td>92.152627</td>\n",
       "    </tr>\n",
       "    <tr>\n",
       "      <th>max</th>\n",
       "      <td>173692.00000</td>\n",
       "      <td>1.245305e+09</td>\n",
       "      <td>269.080000</td>\n",
       "      <td>2.099700</td>\n",
       "      <td>3.14140</td>\n",
       "      <td>1.000000</td>\n",
       "      <td>2.027700</td>\n",
       "      <td>184.728000</td>\n",
       "      <td>528.434000</td>\n",
       "      <td>2.099200</td>\n",
       "      <td>3.140900</td>\n",
       "      <td>1.000000</td>\n",
       "      <td>177.93100</td>\n",
       "      <td>151.295000</td>\n",
       "      <td>119.952704</td>\n",
       "    </tr>\n",
       "  </tbody>\n",
       "</table>\n",
       "</div>"
      ],
      "text/plain": [
       "                Run         Event           pt1          eta1         phi1  \\\n",
       "count   10000.00000  1.000000e+04  10000.000000  10000.000000  10000.00000   \n",
       "mean   168783.06370  4.019532e+08     38.403231     -0.278699     -0.23353   \n",
       "std      3929.76919  3.492634e+08     14.427817      1.352768      1.80456   \n",
       "min    160957.00000  8.922000e+04      3.463700     -2.437500     -3.14140   \n",
       "25%    166033.00000  1.250350e+08     30.160275     -1.429850     -1.77995   \n",
       "50%    167102.00000  3.206396e+08     38.883850     -0.557000     -0.42945   \n",
       "75%    173381.00000  5.666747e+08     45.057750      1.094800      1.30270   \n",
       "max    173692.00000  1.245305e+09    269.080000      2.099700      3.14140   \n",
       "\n",
       "                 Q1          dxy1          iso1           pt2          eta2  \\\n",
       "count  10000.000000  10000.000000  10000.000000  10000.000000  10000.000000   \n",
       "mean      -0.031200      0.006345      1.514267     38.639360      0.079500   \n",
       "std        0.999563      0.074693      6.353057     15.945227      0.871556   \n",
       "min       -1.000000     -3.588000      0.000000      3.266200     -2.428000   \n",
       "25%       -1.000000     -0.051500      0.000000     30.033800     -0.566525   \n",
       "50%       -1.000000      0.012100      0.000000     38.932350      0.076450   \n",
       "75%        1.000000      0.066500      0.478550     45.194675      0.738500   \n",
       "max        1.000000      2.027700    184.728000    528.434000      2.099200   \n",
       "\n",
       "               phi2            Q2         dxy2          iso2             M  \n",
       "count  10000.000000  10000.000000  10000.00000  10000.000000  10000.000000  \n",
       "mean       0.250883      0.038400      0.01058      1.732420     87.973980  \n",
       "std        1.787396      0.999312      1.78079      6.812311      8.840568  \n",
       "min       -3.141500     -1.000000     -2.00520      0.000000     60.002249  \n",
       "25%       -1.258575     -1.000000     -0.06740      0.000000     86.940134  \n",
       "50%        0.406600      1.000000     -0.01315      0.000000     90.285408  \n",
       "75%        1.803625      1.000000      0.05290      0.527525     92.152627  \n",
       "max        3.140900      1.000000    177.93100    151.295000    119.952704  "
      ]
     },
     "execution_count": 7,
     "metadata": {},
     "output_type": "execute_result"
    }
   ],
   "source": [
    "df.describe()"
   ]
  },
  {
   "cell_type": "markdown",
   "metadata": {},
   "source": [
    "# Model\n",
    "\n",
    "The distribution of the Z boson mass has the form of a normal distribution, in addition there is a noise. The distribution of the noise has an exponential form. Thus, the resulting model, it is a result of a superposition of two distributions - normal and polinomial"
   ]
  },
  {
   "cell_type": "markdown",
   "metadata": {},
   "source": [
    "Let's plot the distribution of Z boson mass"
   ]
  },
  {
   "cell_type": "code",
   "execution_count": 5,
   "metadata": {},
   "outputs": [],
   "source": [
    "def plot_mass(mass, bins_count=100):\n",
    "    y, x = np.histogram(mass, bins=bins_count, density=False)\n",
    "    err = np.sqrt(y)\n",
    "\n",
    "    fig = plt.figure(figsize=(15,7))\n",
    "    plt.title('Z mass', fontsize=20)\n",
    "    plt.xlabel(\"$m_{\\mu\\mu}$ [GeV]\", fontsize=20)\n",
    "    plt.ylabel(\"Number of events\", fontsize=20)\n",
    "    plt.errorbar(x[:-1], y, yerr=err, fmt='o', color='red', ecolor='grey', capthick=0.5, zorder=1, label=\"data\")\n",
    "    return y, x"
   ]
  },
  {
   "cell_type": "code",
   "execution_count": 6,
   "metadata": {},
   "outputs": [
    {
     "data": {
      "image/png": "[encoded data removed]",
      "text/plain": [
       "<Figure size 1080x504 with 1 Axes>"
      ]
     },
     "metadata": {
      "needs_background": "light"
     },
     "output_type": "display_data"
    }
   ],
   "source": [
    "plot_mass(df.M);"
   ]
  },
  {
   "cell_type": "markdown",
   "metadata": {},
   "source": [
    "## Exercise 1. clean up dataset a bit\n",
    "- demand that charge of muons should be opposite\n",
    "- $I_{track}$ < 3 and $d_{xy}$ < 0.2 cm"
   ]
  },
  {
   "cell_type": "code",
   "execution_count": 8,
   "metadata": {},
   "outputs": [],
   "source": [
    "### YOUR CODE GOES HERE ###\n",
    "df_sign = (df.Q1 > 0) & (df.Q2 < 0) | (df.Q1 < 0) & (df.Q2 > 0)\n",
    "df_isolation = (df.iso1 < 3) & (df.iso2 < 3) & (df.dxy1.abs() < 0.2) & (df.dxy2.abs() < 0.2) #\n",
    "df = df[df_sign & df_isolation]"
   ]
  },
  {
   "cell_type": "code",
   "execution_count": 9,
   "metadata": {},
   "outputs": [
    {
     "data": {
      "image/png": "[encoded data removed]",
      "text/plain": [
       "<Figure size 1080x504 with 1 Axes>"
      ]
     },
     "metadata": {
      "needs_background": "light"
     },
     "output_type": "display_data"
    }
   ],
   "source": [
    "plot_mass(df.M);"
   ]
  },
  {
   "cell_type": "markdown",
   "metadata": {},
   "source": [
    "### Let's define parametrised model\n",
    "it should represent mixture of 1) Gaussian signal and 2) background that for the simplicity we consider to be flat over mass. So it gives the following set of parameters:\n",
    "\n",
    "- m0 - center of the Gaussian\n",
    "- sigma - standard deviation of the Gaussian\n",
    "- ampl - height of the peak\n",
    "- bck - height of the background \n",
    "\n",
    "finding those parameters is called _fitting_ model into the data. It will be the goal for the rest of the exercise. For simplicity sake we'll stick with old good binned fit."
   ]
  },
  {
   "cell_type": "code",
   "execution_count": 11,
   "metadata": {},
   "outputs": [],
   "source": [
    "def model_predict(params, X):\n",
    "    m0, sigma, ampl, bck = params\n",
    "    return bck + ampl / (sigma * np.sqrt(2 * np.pi)) * np.exp((-1) * (X - m0)**2 / (2 * sigma**2))"
   ]
  },
  {
   "cell_type": "code",
   "execution_count": 12,
   "metadata": {},
   "outputs": [],
   "source": [
    "def model_loss(params, X, y):\n",
    "#     y, x = np.histogram(mass, bins=bins_count, density=False)\n",
    "#     residuals = model_predict(params, (x[1:] + x[:-1])/2) - y \n",
    "    residuals = y - model_predict(params, X)\n",
    "    return np.sum(residuals**2) / len(residuals)"
   ]
  },
  {
   "cell_type": "code",
   "execution_count": 13,
   "metadata": {},
   "outputs": [],
   "source": [
    "def plot_mass_with_model(params, mass, bins_count=100):\n",
    "    y, X = plot_mass(mass, bins_count=bins_count)\n",
    "    X = (X[1:] + X[:-1]) / 2\n",
    "    error = model_loss(params, X, y)\n",
    "    plt.plot(X, model_predict(params, X), color='blue', linewidth=3.0, zorder=2, label=\"fit, loss=%.2f\" % error)\n",
    "    plt.legend(fontsize='x-large')"
   ]
  },
  {
   "cell_type": "markdown",
   "metadata": {},
   "source": [
    "## Here you can fit model parameters by hand"
   ]
  },
  {
   "cell_type": "code",
   "execution_count": 42,
   "metadata": {},
   "outputs": [
    {
     "data": {
      "image/png": "[encoded data removed]",
      "text/plain": [
       "<Figure size 1080x504 with 1 Axes>"
      ]
     },
     "metadata": {
      "needs_background": "light"
     },
     "output_type": "display_data"
    }
   ],
   "source": [
    "plot_mass_with_model((91, 2, 4000, 20), df.M)"
   ]
  },
  {
   "cell_type": "markdown",
   "metadata": {},
   "source": [
    "## ... but you can do it automatically of course"
   ]
  },
  {
   "cell_type": "markdown",
   "metadata": {},
   "source": [
    "Setting up a scikit optimizer"
   ]
  },
  {
   "cell_type": "code",
   "execution_count": 83,
   "metadata": {},
   "outputs": [],
   "source": [
    "from tqdm import tqdm\n",
    "from skopt import Optimizer\n",
    "\n",
    "search_space = [(90.0, 92.0), # m0 range\n",
    "    (1.0, 3.0), # sigma range\n",
    "    (2000, 5000), # amplitude range\n",
    "    (10, 20) # bck range\n",
    "    ]\n",
    "y, X = np.histogram(df.M, bins=120, density=False)\n",
    "X = (X[1:] + X[:-1]) / 2\n",
    "opt = Optimizer(search_space, base_estimator=\"GP\", acq_func=\"EI\", acq_optimizer=\"lbfgs\")"
   ]
  },
  {
   "cell_type": "markdown",
   "metadata": {},
   "source": [
    "Running it for a while. You can re-run this cell several times"
   ]
  },
  {
   "cell_type": "code",
   "execution_count": 84,
   "metadata": {},
   "outputs": [
    {
     "name": "stderr",
     "output_type": "stream",
     "text": [
      "100%|██████████| 100/100 [00:23<00:00,  4.17it/s]\n"
     ]
    }
   ],
   "source": [
    "from skopt.utils import create_result\n",
    "for i in tqdm(range(100)):\n",
    "    next_x = opt.ask()\n",
    "    f_val = model_loss(next_x, X, y)\n",
    "    opt.tell(next_x, f_val)\n",
    "    \n",
    "res = create_result(Xi=opt.Xi, yi=opt.yi, space=opt.space,\n",
    "                         rng=opt.rng, models=opt.models)"
   ]
  },
  {
   "cell_type": "markdown",
   "metadata": {},
   "source": [
    "## A bit of search history"
   ]
  },
  {
   "cell_type": "code",
   "execution_count": 85,
   "metadata": {},
   "outputs": [
    {
     "name": "stdout",
     "output_type": "stream",
     "text": [
      "[('m0', 90.7293428267851), ('sigma', 2.5062645874001714), ('ampl', 3550), ('bck', 15)]\n"
     ]
    },
    {
     "data": {
      "image/png": "[encoded data removed]",
      "text/plain": [
       "<Figure size 432x288 with 1 Axes>"
      ]
     },
     "metadata": {
      "needs_background": "light"
     },
     "output_type": "display_data"
    }
   ],
   "source": [
    "import skopt.plots\n",
    "skopt.plots.plot_convergence(res)\n",
    "print (list(zip([\"m0\", \"sigma\", \"ampl\", \"bck\"], res.x)))"
   ]
  },
  {
   "cell_type": "code",
   "execution_count": 86,
   "metadata": {},
   "outputs": [],
   "source": [
    "# even more details on the search space\n",
    "# skopt.plots.plot_objective(res, dimensions=['m0', 'sigma', 'ampl', 'bck'])\n"
   ]
  },
  {
   "cell_type": "markdown",
   "metadata": {},
   "source": [
    "Let's see how well the prediction fits the data"
   ]
  },
  {
   "cell_type": "code",
   "execution_count": 87,
   "metadata": {},
   "outputs": [
    {
     "data": {
      "image/png": "[encoded data removed]",
      "text/plain": [
       "<Figure size 1080x504 with 1 Axes>"
      ]
     },
     "metadata": {
      "needs_background": "light"
     },
     "output_type": "display_data"
    }
   ],
   "source": [
    "plot_mass_with_model(res.x, df.M, bins_count=120)"
   ]
  },
  {
   "cell_type": "code",
   "execution_count": 92,
   "metadata": {},
   "outputs": [],
   "source": [
    "# token expires every 30 min\n",
    "COURSERA_TOKEN = \"\"### YOUR TOKEN HERE\n",
    "COURSERA_EMAIL = \"\"### YOUR EMAIL HERE"
   ]
  },
  {
   "cell_type": "markdown",
   "metadata": {},
   "source": [
    "## Grader part, do not change, please"
   ]
  },
  {
   "cell_type": "code",
   "execution_count": 93,
   "metadata": {},
   "outputs": [],
   "source": [
    "import grading\n",
    "grader = grading.Grader(assignment_key=\"SeMsm2JfEeiyvBKA0wfIgA\", \n",
    "                      all_parts=[\"VI3xu\", \"VuE8x\", \"KzmMV\", \"TwZBF\"])\n"
   ]
  },
  {
   "cell_type": "code",
   "execution_count": 94,
   "metadata": {},
   "outputs": [
    {
     "name": "stdout",
     "output_type": "stream",
     "text": [
      "Submitted to Coursera platform. See results on assignment page!\n"
     ]
    }
   ],
   "source": [
    "ans_part1 = round(res.x[0])\n",
    "grader.set_answer(\"VI3xu\", ans_part1)\n",
    "\n",
    "ans_part2 = round(res.x[1], 2)\n",
    "grader.set_answer(\"VuE8x\", ans_part2)\n",
    "\n",
    "ans_part3 = round(res.x[3])\n",
    "grader.set_answer(\"KzmMV\", ans_part3)\n",
    "\n",
    "ans_part4 = round(res.x[2])\n",
    "grader.set_answer(\"TwZBF\", ans_part4)\n",
    "\n",
    "grader.submit(COURSERA_EMAIL, COURSERA_TOKEN)"
   ]
  },
  {
   "cell_type": "code",
   "execution_count": null,
   "metadata": {},
   "outputs": [],
   "source": []
  }
 ],
 "metadata": {
  "anaconda-cloud": {},
  "kernelspec": {
   "display_name": "Python 3",
   "language": "python",
   "name": "python3"
  },
  "language_info": {
   "codemirror_mode": {
    "name": "ipython",
    "version": 3
   },
   "file_extension": ".py",
   "mimetype": "text/x-python",
   "name": "python",
   "nbconvert_exporter": "python",
   "pygments_lexer": "ipython3",
   "version": "3.7.6"
  }
 },
 "nbformat": 4,
 "nbformat_minor": 2
}
